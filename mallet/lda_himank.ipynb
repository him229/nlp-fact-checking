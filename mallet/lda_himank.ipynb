{
 "cells": [
  {
   "cell_type": "code",
   "execution_count": 1,
   "metadata": {},
   "outputs": [
    {
     "name": "stderr",
     "output_type": "stream",
     "text": [
      "[nltk_data] Downloading package stopwords to /home/ubuntu/nltk_data...\n",
      "[nltk_data]   Package stopwords is already up-to-date!\n",
      "[nltk_data] Downloading package wordnet to /home/ubuntu/nltk_data...\n",
      "[nltk_data]   Package wordnet is already up-to-date!\n"
     ]
    }
   ],
   "source": [
    "# -*- coding: utf-8 -*-\n",
    "\"\"\"lda-himank.ipynb\n",
    "Original file is located at\n",
    "    https://colab.research.google.com/drive/12zx-jsZowxlpoN5yMB7CbRrZWVJVBfMu\n",
    "\"\"\"\n",
    "\n",
    "import nltk\n",
    "nltk.download('stopwords')\n",
    "nltk.download('wordnet')\n",
    "import re\n",
    "import numpy as np\n",
    "import pandas as pd\n",
    "from pprint import pprint\n",
    "import os\n",
    "from pathlib import Path\n",
    "import json\n",
    "from nltk.stem.wordnet import WordNetLemmatizer\n",
    "from nltk.corpus import wordnet as wn\n",
    "import csv\n",
    "import random\n",
    "import gensim\n",
    "import gensim.corpora as corpora\n",
    "from gensim.utils import simple_preprocess\n",
    "from gensim.models import CoherenceModel\n",
    "from gensim.test.utils import datapath\n",
    "import spacy\n",
    "from nltk.corpus import stopwords\n",
    "stop_words = stopwords.words('english')\n",
    "import json\n",
    "import random\n"
   ]
  },
  {
   "cell_type": "code",
   "execution_count": 2,
   "metadata": {},
   "outputs": [],
   "source": [
    "with open('sampled_te_docs_10k.json', 'r') as outfile:  \n",
    "    test_docs = json.load(outfile)\n",
    "with open('sampled_tr_docs_10k.json', 'r') as outfile:  \n",
    "    train_docs = json.load(outfile)"
   ]
  },
  {
   "cell_type": "code",
   "execution_count": 3,
   "metadata": {},
   "outputs": [],
   "source": [
    "with open('sampled_tr_docs_10k_not_shuffled.json', 'r') as outfile:  \n",
    "    train_docs_unshuffled = json.load(outfile)\n",
    "with open('sampled_tr_docs_10k_trustworthy.json', 'r') as outfile:  \n",
    "    train_docs_trustworthy = json.load(outfile)"
   ]
  },
  {
   "cell_type": "raw",
   "metadata": {},
   "source": [
    "with open('data/sampled_all_docs_all.json', 'r') as outfile:\n",
    "    docs = json.load(outfile)"
   ]
  },
  {
   "cell_type": "raw",
   "metadata": {},
   "source": [
    "tr_docs_15k = []\n",
    "tr_docs_14k = []\n",
    "te_docs_14k = []\n",
    "tr_docs_13k = []\n",
    "te_docs_13k = []\n",
    "tr_docs_10k = []\n",
    "te_docs_10k = []\n",
    "\n",
    "for k,v in docs.items():\n",
    "    v = [row[5] for row in v]\n",
    "    tr_docs_15k += v\n",
    "    tr_docs_14k += v[:14000]\n",
    "    te_docs_14k += v[14000:]\n",
    "    tr_docs_13k += v[:13000]\n",
    "    te_docs_13k += v[13000:]\n",
    "    tr_docs_10k += v[:10000]\n",
    "    te_docs_10k += v[10000:]"
   ]
  },
  {
   "cell_type": "raw",
   "metadata": {},
   "source": [
    "def write(name, data):\n",
    "    with open('data/{}.json'.format(name), 'w') as outfile:\n",
    "        random.shuffle(data)\n",
    "        json.dump(data, outfile)\n",
    "        \n",
    "write('sampled_tr_docs_15k', tr_docs_15k)\n",
    "write('sampled_tr_docs_14k', tr_docs_14k)\n",
    "write('sampled_tr_docs_13k', tr_docs_13k)\n",
    "write('sampled_tr_docs_10k', tr_docs_10k)\n",
    "write('sampled_te_docs_14k', te_docs_14k)\n",
    "write('sampled_te_docs_13k', te_docs_13k)\n",
    "write('sampled_te_docs_10k', te_docs_10k)"
   ]
  },
  {
   "cell_type": "raw",
   "metadata": {},
   "source": [
    "def write(name, data):\n",
    "    with open('data/{}.json'.format(name), 'w') as outfile:\n",
    "        random.shuffle(data)\n",
    "        json.dump(data, outfile)\n",
    "        \n",
    "tr_docs_15k = []\n",
    "tr_docs_14k = []\n",
    "te_docs_14k = []\n",
    "tr_docs_13k = []\n",
    "te_docs_13k = []\n",
    "tr_docs_10k = []\n",
    "te_docs_10k = []\n",
    "\n",
    "for k,v in docs.items():\n",
    "    tr_docs_15k += v\n",
    "    tr_docs_14k += v[:14000]\n",
    "    te_docs_14k += v[14000:]\n",
    "    tr_docs_13k += v[:13000]\n",
    "    te_docs_13k += v[13000:]\n",
    "    tr_docs_10k += v[:10000]\n",
    "    te_docs_10k += v[10000:]\n",
    "    \n",
    "write('sampled_tr_docs_15k_all', tr_docs_15k)\n",
    "write('sampled_tr_docs_14k_all', tr_docs_14k)\n",
    "write('sampled_tr_docs_13k_all', tr_docs_13k)\n",
    "write('sampled_tr_docs_10k_all', tr_docs_10k)\n",
    "write('sampled_te_docs_14k_all', te_docs_14k)\n",
    "write('sampled_te_docs_13k_all', te_docs_13k)\n",
    "write('sampled_te_docs_10k_all', te_docs_10k) "
   ]
  },
  {
   "cell_type": "raw",
   "metadata": {},
   "source": [
    "def write(name, data):\n",
    "    with open('data/{}.json'.format(name), 'w') as outfile:\n",
    "        random.shuffle(data)\n",
    "        json.dump(data, outfile)\n",
    "        \n",
    "tr_docs_5k = []\n",
    "te_docs_5k = []\n",
    "for k,v in docs.items():\n",
    "    v = [row[5] for row in v]\n",
    "    tr_docs_5k += v[:5000]\n",
    "    te_docs_5k += v[5000:]\n",
    "write('sampled_tr_docs_5k', tr_docs_5k)\n",
    "write('sampled_te_docs_5k', te_docs_5k)\n",
    "\n",
    "tr_docs_5k = []\n",
    "te_docs_5k = []\n",
    "for k,v in docs.items():\n",
    "    tr_docs_5k += v[:5000]\n",
    "    te_docs_5k += v[5000:]\n",
    "write('sampled_tr_docs_5k_all', tr_docs_5k)\n",
    "write('sampled_te_docs_5k_all', te_docs_5k)"
   ]
  },
  {
   "cell_type": "raw",
   "metadata": {},
   "source": [
    "with open('data/train_lda_10k.json', 'r') as outfile:\n",
    "    docs_old = json.load(outfile)\n",
    "with open('data/sampled_tr_docs_7k_all.json', 'r') as outfile:\n",
    "    docs_all = json.load(outfile)\n",
    "with open('data/sampled_tr_docs_7k.json', 'r') as outfile:\n",
    "    docs_new = json.load(outfile)"
   ]
  },
  {
   "cell_type": "raw",
   "metadata": {},
   "source": [
    "with open('data/sampled_all_docs_all.json', 'r') as outfile:\n",
    "    docs = json.load(outfile)"
   ]
  },
  {
   "cell_type": "raw",
   "metadata": {},
   "source": [
    "ugghh = 0\n",
    "for k,v in docs.items():\n",
    "    for elem in v:\n",
    "        if len(elem) != 17:\n",
    "            print(k)\n",
    "            print(len(elem))\n",
    "            print(v)\n",
    "ugghh"
   ]
  },
  {
   "cell_type": "raw",
   "metadata": {},
   "source": [
    "ugghh = 0\n",
    "for elem in docs_all:\n",
    "    if len(elem) != 17:\n",
    "        ugghh += 1\n",
    "print(ugghh)\n",
    "len(docs_all)"
   ]
  },
  {
   "cell_type": "raw",
   "metadata": {},
   "source": [
    "with open('data/sampled_tr_docs_10k.json', 'r') as outfile:\n",
    "    docs_old = json.load(outfile)\n",
    "with open('data/train_lda_10k.json', 'r') as outfile:\n",
    "    docs_all = json.load(outfile)"
   ]
  },
  {
   "cell_type": "raw",
   "metadata": {},
   "source": [
    "type(docs_old)"
   ]
  },
  {
   "cell_type": "code",
   "execution_count": 4,
   "metadata": {},
   "outputs": [],
   "source": [
    "def clean(doc):\n",
    "    deacc = gensim.utils.simple_preprocess(doc, deacc=True, min_len=4)\n",
    "    stop_free = [i for i in deacc if i not in stop]\n",
    "    normalized = [lemma.lemmatize(word) for word in stop_free]\n",
    "    return normalized\n",
    "\n",
    "stop = set(stopwords.words('english'))\n",
    "lemma = WordNetLemmatizer()"
   ]
  },
  {
   "cell_type": "raw",
   "metadata": {},
   "source": [
    "train_docs_clean = [clean(doc) for doc in train_docs]"
   ]
  },
  {
   "cell_type": "raw",
   "metadata": {},
   "source": [
    "### SAVING dict\n",
    "dictionary = corpora.Dictionary(train_docs_clean)\n",
    "dictionary.save_as_text('dict_10k')"
   ]
  },
  {
   "cell_type": "code",
   "execution_count": 5,
   "metadata": {},
   "outputs": [],
   "source": [
    "## LOAD dict\n",
    "dictionary = corpora.Dictionary.load_from_text('dict_10k')"
   ]
  },
  {
   "cell_type": "raw",
   "metadata": {},
   "source": [
    "doc_term_matrix = [dictionary.doc2bow(doc) for doc in train_docs_clean]"
   ]
  },
  {
   "cell_type": "raw",
   "metadata": {},
   "source": [
    "test_docs_clean = [clean(doc) for doc in test_docs]"
   ]
  },
  {
   "cell_type": "raw",
   "metadata": {},
   "source": [
    "test_doc_term_matrix = [dictionary.doc2bow(text) for text in test_docs_clean]"
   ]
  },
  {
   "cell_type": "code",
   "execution_count": 6,
   "metadata": {},
   "outputs": [],
   "source": [
    "with open('doc_term_matrix.json', 'r') as outfile:\n",
    "    doc_term_matrix = json.load(outfile)"
   ]
  },
  {
   "cell_type": "raw",
   "metadata": {},
   "source": [
    "with open('test_doc_term_matrix.json', 'r') as outfile:\n",
    "    test_doc_term_matrix = json.load(outfile)"
   ]
  },
  {
   "cell_type": "raw",
   "metadata": {},
   "source": [
    "Lda = gensim.models.wrappers.LdaMallet\n",
    "# ldamodel = Lda(doc_term_matrix, num_topics=100, id2word = dictionary, passes=50)\n",
    "ldamodel = Lda('Mallet/bin/mallet', corpus=doc_term_matrix, num_topics=100, id2word = dictionary, optimize_interval=10)\n",
    "temp_file = \"model____\"\n",
    "ldamodel.save(temp_file)"
   ]
  },
  {
   "cell_type": "code",
   "execution_count": 12,
   "metadata": {},
   "outputs": [],
   "source": [
    "###### LOAD MODEL\n",
    "Lda = gensim.models.wrappers.LdaMallet\n",
    "ldamodel_10k = Lda.load(\"model_10k_5000_alpha_005\")"
   ]
  },
  {
   "cell_type": "code",
   "execution_count": 8,
   "metadata": {},
   "outputs": [
    {
     "data": {
      "text/plain": [
       "70000"
      ]
     },
     "execution_count": 8,
     "metadata": {},
     "output_type": "execute_result"
    }
   ],
   "source": [
    "# len(test_docs)\n",
    "len(train_docs)"
   ]
  },
  {
   "cell_type": "code",
   "execution_count": 9,
   "metadata": {
    "scrolled": true
   },
   "outputs": [],
   "source": [
    "DOC_NUM_FROM_TESTING = 16000  # range is 0 - 184706\n",
    "DOC_NUM_FROM_TRAINING = 500   # range is 0 - 70000"
   ]
  },
  {
   "cell_type": "code",
   "execution_count": null,
   "metadata": {},
   "outputs": [],
   "source": [
    "print(test_docs[DOC_NUM_FROM_TESTING])"
   ]
  },
  {
   "cell_type": "code",
   "execution_count": null,
   "metadata": {
    "scrolled": true
   },
   "outputs": [],
   "source": [
    "tops = ldamodel_10k[test_doc_term_matrix[DOC_NUM_FROM_TESTING]]\n",
    "tops = sorted(tops, key=lambda a:a[1], reverse=True)\n",
    "for top in tops[:10]:\n",
    "    print(top[1], ldamodel_10k.show_topic(top[0]))\n",
    "    print(\"\\n\")\n",
    "    "
   ]
  },
  {
   "cell_type": "code",
   "execution_count": 14,
   "metadata": {},
   "outputs": [],
   "source": [
    "doc_term_matrix_unshuffled = [dictionary.doc2bow(doc) for doc in [clean(d) for d in train_docs_unshuffled]]\n",
    "#doc_term_matrix_trustworthy = [dictionary.doc2bow(doc) for doc in [clean(d) for d in train_docs_trustworthy]]"
   ]
  },
  {
   "cell_type": "code",
   "execution_count": 15,
   "metadata": {},
   "outputs": [
    {
     "name": "stdout",
     "output_type": "stream",
     "text": [
      "The Washington Free Beacon has a report on Israeli Army prepared for possible cross border attacks on resort area of Eilat by Islamic State affiliate Ansar Beit al Maqdis that has undertaken murderous attacks on Egyptian security forces.\n",
      "\n",
      "Their tactics could include simultaneous penetration of the border fence at a number of points by large numbers of terrorists, cross border rockets, and the use of hang gliders and speedboats, according to Israel Radio.\n",
      "\n",
      "“The scenario we are preparing for,” said IDF Col. Hen, in a blunt briefing, “is a terror threat directed against our forces and civilians in the Eilat area. The scenario is a multi-pronged attack, not just at one site, and we will likely have to deal with this challenge without prior warning.” Its members have inflicted heavy casualties on Egyptian troops who have been unable to track down the group’s leaders, whose lairs are believed to be in the mountainous central part of Sinai. In the past year alone, some 350 Egyptian soldiers, police officers, and intelligence personnel have been killed in the fight against the organization.\n",
      "\n",
      "Col. Hen said that the IDF has taken steps to meet the threat and called for residents in the area to continue with their lives as normal.\n",
      "\n",
      "Israel has cooperated with Egypt in its fight against Ansar Beit al Maqdis, waiving restrictions in the peace treaty with Egypt that prohibit the presence of troops, armored vehicles, and helicopters in the areas close to Israel’s borders. The Egyptian army has beefed up its forces on its side of the border.\n",
      "\n",
      "Read More.\n"
     ]
    }
   ],
   "source": [
    "print(train_docs[DOC_NUM_FROM_TRAINING])"
   ]
  },
  {
   "cell_type": "code",
   "execution_count": 16,
   "metadata": {
    "scrolled": false
   },
   "outputs": [
    {
     "name": "stdout",
     "output_type": "stream",
     "text": [
      "According to new reporting this month, Donald Trump allegedly had a consensual affair with a paid pornographic actress who went by the stage name Stormy Daniels in 2006, one year after marrying his third wife and just months after his son Barron Trump was born. Daniels consented to the release of an extensive 2011 interview in which she described the affair in explicit detail. The Wall Street Journal revealed that Michael Cohen, an attorney working for Donald Trump’s 2016 campaign, paid Daniels $130,000 to keep quiet about the affair. What’s more, he did so through a Delaware LLC to which Cohen was attached as the “authorized person” rather than a third party with some distance from the future president. This thing is pretty airtight.\n",
      "\n",
      "What’s interesting is that, so far, Trump’s defenders are not following the president’s lead and denying that this affair occurred. As an entertainer and publicity seeker, Donald Trump made a virtue of his penchant for adultery. Jaws around the nation did not drop over the allegation that the president might not have been faithful to his third wife. These revelations do serve as another opportunity to check in with the religious right just to make sure they remain comfortable with the double standard they have reserved for Trump. And, yes, they’re still good with it.\n",
      "\n",
      "In an interview with Politico, Family Research Council President Tony Perkins confessed that the community of moral leaders on the right gave Trump a “mulligan” for the debauchery in which he engaged before he became a political figure. He said that the religious right is “tired of being kicked around” by the left and are “glad” there’s “somebody on the playground that is willing to punch the bully.” What about turning the other cheek, Perkins’s interlocutor asked. “You know, you only have two cheeks,” he replied.\n",
      "\n",
      "Perkins is getting a lot of grief for that, but his honest assessment of the transactional nature of the evangelical community’s moral compromise is illuminating. “That support is not unconditional,” he said. “If the president for some reason stopped keeping campaign promises and then engaged in that behavior now, the support’s gone.” In other words, if Trump stops delivering for them in office, this community of formerly self-righteous moral scolds reserves the right to rediscover their principles.\n",
      "\n",
      "Many have offered theories as to why these and many other evangelical leaders compromised themselves for Trump. Less attention has been paid to whether the moral majority’s acceptance of Trumpian turpitude represents a depressing new normal. Is this the standard of ethical degradation to which all will be held in the future? If Perkins’ admission is reflective of unspoken sentiments broadly shared on the right, the answer is no. Trump’s is a standard to which only the politically valuable are held.\n",
      "\n",
      "There was some justified fear that the Trump standard was being broadly applied in November when the right’s moral gymnasts engaged in a collective defense of Alabama justice Roy Moore. They joined with the institutional GOP to ratify Donald Trump’s support for the GOP nominee for U.S. Senate despite his contempt for the law, the Constitution, and the credible allegations that he had abused underage girls. But once Moore lost, his utility was spent. As Breitbart’s Alex Marlow confessed, the accusations against Moore were credible, but the impulse to protect Trump—not Moore, per se—from his detractors was more important than moral rectitude. This, too, was transactional.\n",
      "\n",
      "Conservatives might be tempted to retreat into a persecution complex. After all, defending Trump’s repeated indiscretions is a full-time job and one that the left seems conspicuously able to avoid. The Trump standard is the Bill Clinton standard, they might say, and it’s about time that Republicans held a mirror up to Democrats and their enablers in media. Stringent moral standards were shackles by which the right constrained itself, thus allowing the left to operate with impunity. Good riddance.\n",
      "\n",
      "But the Trump standard and the Clinton standard seem reserved for presidents. Anthony Weiner, David Wu, and John Edwards did not benefit from the Clinton standard. Al Franken and John Conyers’ appeals to precedent didn’t salvage their political careers. Similarly, even in just the last 12 months, personal indiscretions were enough to cut short the political careers of Republicans like Blake Farenthold, Joe Barton, and Tim Murphy.\n",
      "\n",
      "Some might push back against the notion that we can draw broader conclusions from these politicians’ experiences because Rep. Patrick Meehan and Missouri Gov. Eric Greitens have managed to hold on despite the sex scandals engulfing their careers. Their careers might withstand calls for their resignations; time will tell. But their experiences reinforce the fact that there really are no universal moral standards. There are only individuals. And the actions of those individuals are condemned or condoned as a result of calculated cost/benefit analyses, not morality. It was always ever thus.\n",
      "\n",
      "If this doesn’t sound like cause for optimism to you, buck up. Presidential politics is unique because the stakes at the presidential level are so high. Both parties tend to reflect their titular leaders, but presidents are transitory figures. The Republican Party’s status quo ante was Mitt Romney, John McCain, George W. Bush, Bob Dole, and so on; men of moral fortitude who had no stomach for conspiratorial thinking, nativist acrimony, or degeneracy. A reversion to the mean is perfectly imaginable.\n",
      "\n",
      "If such a reversion is in the cards, no one who compromised their stated values in the Trump era should be allowed to forget the bargain they made. Yet this presidency has exposed a valuable truth: too often, ethical considerations are situational and conditional—particularly in politics. If American moral decline is going to be arrested, the country’s self-styled moral leaders must confront that fact and realize the extent to which they’ve contributed to the plunge.\n"
     ]
    }
   ],
   "source": [
    "print(train_docs_unshuffled[6855])"
   ]
  },
  {
   "cell_type": "code",
   "execution_count": 46,
   "metadata": {
    "scrolled": true
   },
   "outputs": [
    {
     "name": "stdout",
     "output_type": "stream",
     "text": [
      "42\n",
      "0.720873470345299 [('photo', 0.0515457446252027), ('image', 0.03772558455824659), ('castro', 0.02398911963174138), ('cuban', 0.020850551864832347), ('cuba', 0.019197572840926925), ('playing', 0.01511743474394518), ('fidel', 0.011790552911021605), ('le', 0.010556049589370717), ('fullscreen', 0.010074802531777999), ('getty', 0.008850761102683475)]\n",
      "\n",
      "\n",
      "38\n",
      "0.07306889487306262 [('european', 0.024984678902041736), ('europe', 0.022081734025739444), ('country', 0.0175950714446989), ('british', 0.017172531690481566), ('britain', 0.01669515853304519), ('france', 0.01526626455504306), ('french', 0.015111440828306937), ('germany', 0.01168274037996323), ('london', 0.011234396671289875), ('minister', 0.011069896461632745)]\n",
      "\n",
      "\n",
      "79\n",
      "0.06809122166047965 [('bill', 0.038560688230836665), ('house', 0.03285886216067634), ('senate', 0.02905516841745539), ('republican', 0.028434839457379315), ('congress', 0.024445418480602648), ('senator', 0.017751808983254833), ('democrat', 0.01741378541818344), ('vote', 0.014468151493989867), ('committee', 0.013260924475877747), ('legislation', 0.009869545191150469)]\n",
      "\n",
      "\n",
      "69\n",
      "0.04225670152674384 [('gold', 0.056911390359206435), ('market', 0.03433135345535847), ('price', 0.021361132436327392), ('stock', 0.018512532492895337), ('silver', 0.014418090966638382), ('investor', 0.010855657467641791), ('trading', 0.010545880641642087), ('metal', 0.009340444731773674), ('fund', 0.00863334545503522), ('year', 0.008330302907861598)]\n",
      "\n",
      "\n",
      "7\n",
      "0.041930253726763976 [('german', 0.03086890243902439), ('jew', 0.022068207600680657), ('germany', 0.01995887691435054), ('nazi', 0.017769781622234828), ('jewish', 0.01659103800340329), ('hitler', 0.014986883153715259), ('holocaust', 0.010954339194554736), ('camp', 0.010688457175269428), ('auschwitz', 0.0058759926262053315), ('frank', 0.005751914350538854)]\n",
      "\n",
      "\n",
      "70\n",
      "0.02064980492874434 [('book', 0.029344265081951686), ('author', 0.009189663086162805), ('american', 0.007698528536769581), ('time', 0.00686310461984569), ('university', 0.006807247788190894), ('wrote', 0.006702819798575408), ('year', 0.006540106419407092), ('read', 0.006314250534889877), ('york', 0.006173394176803872), ('published', 0.006151537155721561)]\n",
      "\n",
      "\n",
      "14\n",
      "0.008855871510441635 [('investigation', 0.014341235455047143), ('report', 0.011725198727206548), ('department', 0.011304848121925158), ('case', 0.009513074312820693), ('official', 0.008519731821010484), ('office', 0.008167482710439489), ('evidence', 0.007509951037373631), ('attorney', 0.007448894524874658), ('document', 0.006866509328730612), ('information', 0.006765531250366926)]\n",
      "\n",
      "\n",
      "55\n",
      "0.005958495678549589 [('intelligence', 0.030037053966525), ('security', 0.0193147447555508), ('information', 0.01868259047100357), ('government', 0.015823308014743784), ('agency', 0.012404812152922984), ('secret', 0.011437129825039145), ('document', 0.010197134882273421), ('official', 0.009686548729369889), ('surveillance', 0.009083570796417143), ('report', 0.008820983632066756)]\n",
      "\n",
      "\n",
      "51\n",
      "0.003609574187495883 [('program', 0.018442873904232163), ('project', 0.01388795613373207), ('organization', 0.009236251298724386), ('group', 0.008596271525245622), ('plan', 0.00827233114607736), ('development', 0.008205172774786378), ('work', 0.00758692070966646), ('service', 0.0072728565615704), ('member', 0.006836327148179021), ('community', 0.00639584724235876)]\n",
      "\n",
      "\n",
      "61\n",
      "0.002860621004275586 [('told', 0.014116273647693394), ('week', 0.012932338783953383), ('meeting', 0.012497457681769552), ('official', 0.01123911350396767), ('statement', 0.010574390298348278), ('time', 0.008894393340862453), ('president', 0.008580220681490105), ('month', 0.007996520951182529), ('press', 0.007728647420559789), ('decision', 0.007072191916502829)]\n",
      "\n",
      "\n"
     ]
    }
   ],
   "source": [
    "tops = ldamodel_10k[doc_term_matrix_unshuffled[1480]]\n",
    "tops = sorted(tops, key=lambda a:a[1], reverse=True)\n",
    "for top in tops[:10]:\n",
    "    print(top[0])\n",
    "    print(top[1], ldamodel_10k.show_topic(top[0]))\n",
    "    print(\"\\n\")"
   ]
  },
  {
   "cell_type": "code",
   "execution_count": 13,
   "metadata": {
    "scrolled": true
   },
   "outputs": [
    {
     "name": "stdout",
     "output_type": "stream",
     "text": [
      "0.37255667515990315 [('military', 0.06252925938641116), ('force', 0.036800505602197185), ('army', 0.021121375737336537), ('defense', 0.017610249367997252), ('troop', 0.015803969913548266), ('afghanistan', 0.015534783558565588), ('soldier', 0.013962579195405887), ('security', 0.011153678099934458), ('operation', 0.009347398645485472), ('iraq', 0.008805124683998626)]\n",
      "\n",
      "\n",
      "0.18203328743239447 [('israel', 0.09830691830457224), ('israeli', 0.05242818414055576), ('palestinian', 0.03717220165789062), ('jewish', 0.030863875710338357), ('jew', 0.019192169334237005), ('state', 0.015849017256660238), ('arab', 0.015275533079610031), ('jerusalem', 0.011977999061571347), ('peace', 0.01170429070434284), ('gaza', 0.011508784734893905)]\n",
      "\n",
      "\n",
      "0.16876267484034746 [('attack', 0.03117726812323578), ('killed', 0.015107591580645263), ('people', 0.01468211506282129), ('terrorist', 0.012954807408371728), ('police', 0.01273889395156553), ('death', 0.009776434316268762), ('report', 0.008484128773325798), ('security', 0.008268215316519603), ('official', 0.00671554354625152), ('bomb', 0.006626638005213675)]\n",
      "\n",
      "\n",
      "0.09445475475022404 [('saudi', 0.05796647464205492), ('arabia', 0.02855156395642009), ('libya', 0.026985315465366807), ('egypt', 0.02336384334458995), ('arab', 0.016732118026374098), ('egyptian', 0.014799138181318094), ('country', 0.014738016288984307), ('state', 0.013553779625017191), ('libyan', 0.013110645905597237), ('iran', 0.01126170866250019)]\n",
      "\n",
      "\n",
      "0.02462063603958969 [('vehicle', 0.014440371176537977), ('car', 0.008196815213655631), ('system', 0.0077156604422041475), ('truck', 0.007085576812922443), ('driver', 0.006381028754725627), ('equipment', 0.0058941459502806735), ('building', 0.0057853133234047425), ('ford', 0.005556192003665941), ('unit', 0.005120861496162218), ('electric', 0.004914652308397297)]\n",
      "\n",
      "\n",
      "0.02325893773822831 [('state', 0.05330440924225608), ('government', 0.03314095449500555), ('united', 0.016032690949450108), ('federal', 0.01360710321864595), ('constitution', 0.012305519120169509), ('law', 0.010259307839773989), ('citizen', 0.009599434971244072), ('amendment', 0.00865301180506508), ('power', 0.008352335788517809), ('legal', 0.007460397538088992)]\n",
      "\n",
      "\n",
      "0.01952176255551188 [('syria', 0.04086777070932751), ('syrian', 0.027469172650214042), ('iraq', 0.01857656950863848), ('isi', 0.018187709992666248), ('state', 0.015005201848788225), ('force', 0.014193372332986544), ('group', 0.011577098221138267), ('terrorist', 0.010884655398836832), ('assad', 0.01062882676990773), ('government', 0.010113758463663807)]\n",
      "\n",
      "\n",
      "0.01726860996698455 [('people', 0.03789931285646278), ('thing', 0.021073909829247454), ('time', 0.018466404202443613), ('make', 0.015917505760469353), ('good', 0.01274243581742114), ('year', 0.007785501816308632), ('work', 0.007675484820225031), ('back', 0.007486296714810241), ('life', 0.006852927840160727), ('give', 0.005784631962302214)]\n",
      "\n",
      "\n",
      "0.017026607128342478 [('told', 0.014116273647693394), ('week', 0.012932338783953383), ('meeting', 0.012497457681769552), ('official', 0.01123911350396767), ('statement', 0.010574390298348278), ('time', 0.008894393340862453), ('president', 0.008580220681490105), ('month', 0.007996520951182529), ('press', 0.007728647420559789), ('decision', 0.007072191916502829)]\n",
      "\n",
      "\n",
      "0.010820984235946655 [('time', 0.007128626501316456), ('point', 0.006830275232831361), ('make', 0.006798471290505538), ('problem', 0.006241902299803649), ('fact', 0.006011702336302459), ('question', 0.005454376108878525), ('issue', 0.005433930717383353), ('case', 0.0052158465414348576), ('term', 0.005210545884380554), ('policy', 0.004690324256336746)]\n",
      "\n",
      "\n"
     ]
    }
   ],
   "source": [
    "##SHOULD THIS BE doc_term_matrix, you had test_doc_term_matrix??\n",
    "tops = ldamodel_10k[doc_term_matrix[DOC_NUM_FROM_TRAINING]]\n",
    "tops = sorted(tops, key=lambda a:a[1], reverse=True)\n",
    "for top in tops[:10]:\n",
    "    print(top[1], ldamodel_10k.show_topic(top[0]))\n",
    "    print(\"\\n\")"
   ]
  },
  {
   "cell_type": "markdown",
   "metadata": {},
   "source": [
    "# Below This Is Katie Sketching Out Comparison Stuff"
   ]
  },
  {
   "cell_type": "code",
   "execution_count": 18,
   "metadata": {
    "scrolled": true
   },
   "outputs": [
    {
     "name": "stdout",
     "output_type": "stream",
     "text": [
      "100\n"
     ]
    }
   ],
   "source": [
    "K = ldamodel_10k.num_topics\n",
    "print(K)"
   ]
  },
  {
   "cell_type": "code",
   "execution_count": 19,
   "metadata": {},
   "outputs": [
    {
     "data": {
      "text/plain": [
       "100"
      ]
     },
     "execution_count": 19,
     "metadata": {},
     "output_type": "execute_result"
    }
   ],
   "source": [
    "ldamodel_10k.num_topics"
   ]
  },
  {
   "cell_type": "code",
   "execution_count": 35,
   "metadata": {},
   "outputs": [],
   "source": [
    "THRESH = 0.1\n",
    "all_untrusted_tops = ldamodel_10k[doc_term_matrix_unshuffled]"
   ]
  },
  {
   "cell_type": "code",
   "execution_count": 174,
   "metadata": {},
   "outputs": [
    {
     "data": {
      "text/plain": [
       "(848,\n",
       " 4420,\n",
       " 19152,\n",
       " 65580,\n",
       " [5, 14, 15, 45, 59, 98, 124, 147, 182, 216, 237, 291, 345, 360, 374])"
      ]
     },
     "execution_count": 174,
     "metadata": {},
     "output_type": "execute_result"
    }
   ],
   "source": [
    "# documents with less than 100 topics in all data\n",
    "# trusted, untrusted: 848, 4420\n",
    "messed_up_docs = []\n",
    "trusted_bad = None\n",
    "for i,t in enumerate(all_untrusted_tops):\n",
    "    if len(t) != 100:\n",
    "        messed_up_docs.append(i)\n",
    "    # trusted docs end here\n",
    "    if i == 19999:\n",
    "        trusted_bad = len(messed_up_docs)\n",
    "new_total_len = 70000 - len(messed_up_docs)\n",
    "new_trusted_len = 20000 - trusted_bad\n",
    "trusted_bad, len(messed_up_docs), new_trusted_len, new_total_len, messed_up_docs[:15]"
   ]
  },
  {
   "cell_type": "raw",
   "metadata": {},
   "source": [
    "all_untrusted_tops_clean = list(filter(lambda x: x[0] not in messed_up_docs, list(enumerate(all_untrusted_tops))))\n",
    "all_untrusted_tops_clean = [i[1] for i  in all_untrusted_tops_clean]\n",
    "\n",
    "train_docs_unshuffled_clean = list(filter(lambda x: x[0] not in messed_up_docs, list(enumerate(all_untrusted_tops))))\n",
    "\n",
    "print(len(all_untrusted_tops_clean))"
   ]
  },
  {
   "cell_type": "code",
   "execution_count": 180,
   "metadata": {},
   "outputs": [],
   "source": [
    "bad_array = [(-1,-1) for i in range(100)]\n",
    "all_untrusted_tops_clean = [bad_array if i in messed_up_docs else t for i,t in enumerate(all_untrusted_tops)]\n",
    "train_docs_unshuffled_clean = [\"-1\" if i in messed_up_docs else t for i,t in enumerate(train_docs_unshuffled)]"
   ]
  },
  {
   "cell_type": "code",
   "execution_count": 183,
   "metadata": {
    "scrolled": true
   },
   "outputs": [
    {
     "data": {
      "text/plain": [
       "100"
      ]
     },
     "execution_count": 183,
     "metadata": {},
     "output_type": "execute_result"
    }
   ],
   "source": [
    "len(all_untrusted_tops_clean[15])"
   ]
  },
  {
   "cell_type": "code",
   "execution_count": 184,
   "metadata": {},
   "outputs": [],
   "source": [
    "# Unshuffled Matrix => 0-20k -> trustworthy; 20k-70k -> untrustworthy\n",
    "THRESH = 0.1\n",
    "all_trusted_tops = all_untrusted_tops_clean[:20000]\n",
    "all_trusted_tops_lines = list(map(lambda x: [round(v, 3) if v > THRESH else 0 for t, v in x], all_trusted_tops))"
   ]
  },
  {
   "cell_type": "code",
   "execution_count": 185,
   "metadata": {
    "scrolled": true
   },
   "outputs": [
    {
     "name": "stdout",
     "output_type": "stream",
     "text": [
      "100\n",
      "[0, 0, 0, 0, 0, 0, 0, 0, 0, 0, 0, 0, 0, 0, 0, 0, 0, 0, 0, 0, 0, 0, 0, 0, 0, 0, 0, 0, 0, 0, 0, 0, 0, 0, 0, 0, 0, 0, 0, 0, 0, 0, 0, 0, 0, 0, 0, 0, 0, 0, 0, 0, 0, 0, 0, 0, 0, 0, 0, 0, 0, 0, 0, 0, 0, 0, 0, 0, 0, 0, 0, 0, 0, 0, 0, 0, 0, 0, 0, 0, 0, 0, 0, 0, 0, 0, 0, 0, 0, 0, 0, 0, 0, 0, 0, 0, 0, 0, 0, 0]\n"
     ]
    }
   ],
   "source": [
    "print(len(all_trusted_tops[15]))\n",
    "print(all_trusted_tops_lines[15])"
   ]
  },
  {
   "cell_type": "code",
   "execution_count": 95,
   "metadata": {
    "scrolled": true
   },
   "outputs": [
    {
     "name": "stdout",
     "output_type": "stream",
     "text": [
      "52\n",
      "0.7246350682590614 [('syria', 0.04086777070932751), ('syrian', 0.027469172650214042), ('iraq', 0.01857656950863848), ('isi', 0.018187709992666248), ('state', 0.015005201848788225), ('force', 0.014193372332986544), ('group', 0.011577098221138267), ('terrorist', 0.010884655398836832), ('assad', 0.01062882676990773), ('government', 0.010113758463663807)]\n",
      "\n",
      "\n",
      "0\n",
      "0.09307309510871009 [('military', 0.06252925938641116), ('force', 0.036800505602197185), ('army', 0.021121375737336537), ('defense', 0.017610249367997252), ('troop', 0.015803969913548266), ('afghanistan', 0.015534783558565588), ('soldier', 0.013962579195405887), ('security', 0.011153678099934458), ('operation', 0.009347398645485472), ('iraq', 0.008805124683998626)]\n",
      "\n",
      "\n",
      "42\n",
      "0.06850161790574973 [('photo', 0.0515457446252027), ('image', 0.03772558455824659), ('castro', 0.02398911963174138), ('cuban', 0.020850551864832347), ('cuba', 0.019197572840926925), ('playing', 0.01511743474394518), ('fidel', 0.011790552911021605), ('le', 0.010556049589370717), ('fullscreen', 0.010074802531777999), ('getty', 0.008850761102683475)]\n",
      "\n",
      "\n",
      "56\n",
      "0.034582228837994534 [('time', 0.007128626501316456), ('point', 0.006830275232831361), ('make', 0.006798471290505538), ('problem', 0.006241902299803649), ('fact', 0.006011702336302459), ('question', 0.005454376108878525), ('issue', 0.005433930717383353), ('case', 0.0052158465414348576), ('term', 0.005210545884380554), ('policy', 0.004690324256336746)]\n",
      "\n",
      "\n",
      "13\n",
      "0.029889560829293824 [('time', 0.010352790034176898), ('back', 0.009872319043098637), ('year', 0.008515085623556806), ('home', 0.006011715203733946), ('house', 0.005226902749304224), ('night', 0.0048798239740778775), ('hand', 0.004478352256465313), ('told', 0.0044498607152153894), ('left', 0.004438205084704057), ('head', 0.00404968406765964)]\n",
      "\n",
      "\n",
      "61\n",
      "0.020402351737679444 [('told', 0.014116273647693394), ('week', 0.012932338783953383), ('meeting', 0.012497457681769552), ('official', 0.01123911350396767), ('statement', 0.010574390298348278), ('time', 0.008894393340862453), ('president', 0.008580220681490105), ('month', 0.007996520951182529), ('press', 0.007728647420559789), ('decision', 0.007072191916502829)]\n",
      "\n",
      "\n",
      "11\n",
      "0.012151363623290123 [('attack', 0.03117726812323578), ('killed', 0.015107591580645263), ('people', 0.01468211506282129), ('terrorist', 0.012954807408371728), ('police', 0.01273889395156553), ('death', 0.009776434316268762), ('report', 0.008484128773325798), ('security', 0.008268215316519603), ('official', 0.00671554354625152), ('bomb', 0.006626638005213675)]\n",
      "\n",
      "\n",
      "18\n",
      "0.007300055539685477 [('government', 0.01783321927041208), ('worker', 0.015995769302557084), ('year', 0.014139654493042162), ('money', 0.013938488977374064), ('job', 0.01366266409506626), ('million', 0.012986582052717808), ('cost', 0.011937203177170825), ('income', 0.01084012526182625), ('budget', 0.010089383852838092), ('billion', 0.009670461851137518)]\n",
      "\n",
      "\n",
      "94\n",
      "0.002433203854151507 [('percent', 0.05861026024190725), ('year', 0.03203740822330239), ('number', 0.02323677078364824), ('rate', 0.018588313790146704), ('american', 0.017617817430886598), ('population', 0.017080184504591936), ('million', 0.014350663494172886), ('report', 0.01288389058756386), ('time', 0.009881417476102905), ('data', 0.009793190534351986)]\n",
      "\n",
      "\n",
      "28\n",
      "0.0014098485822012985 [('price', 0.023721996437012394), ('market', 0.02328874749022765), ('percent', 0.019771024698423168), ('year', 0.01967402866556091), ('rate', 0.01514431393089356), ('growth', 0.011658923150043164), ('month', 0.010979950920007371), ('stock', 0.010249247472445044), ('economy', 0.008642346528027004), ('week', 0.007261769660287561)]\n",
      "\n",
      "\n"
     ]
    }
   ],
   "source": [
    "tops = all_trusted_tops[7090]\n",
    "tops = sorted(tops, key=lambda a:a[1], reverse=True)\n",
    "for top in tops[:10]:\n",
    "    print(top[0])\n",
    "    print(top[1], ldamodel_10k.show_topic(top[0]))\n",
    "    print(\"\\n\")"
   ]
  },
  {
   "cell_type": "code",
   "execution_count": 70,
   "metadata": {},
   "outputs": [],
   "source": [
    "######## Feel free to look at the output\n",
    "######## Uncomment whatever you want to see\n",
    "\n",
    "# UNSHUFFLED_DOC = 100\n",
    "\n",
    "# # prints doc\n",
    "# print(train_docs_unshuffled[UNSHUFFLED_DOC])\n",
    "\n",
    "# # prints english topics\n",
    "# topics = ldamodel_10k[doc_term_matrix_unshuffled[UNSHUFFLED_DOC]]\n",
    "# tops = sorted(topics, key=lambda a:a[1], reverse=True)\n",
    "# for top in tops[:10]:\n",
    "#     print(top[1], ldamodel_10k.show_topic(top[0]))\n",
    "#     print(\"\\n\")\n",
    "    \n",
    "# # prints wihtout rounding\n",
    "# print(all_trusted_tops[UNSHUFFLED_DOC])\n",
    "\n",
    "# # prints with rounding as is written as a row of csv\n",
    "# print(all_trusted_tops_lines[UNSHUFFLED_DOC])"
   ]
  },
  {
   "cell_type": "code",
   "execution_count": 186,
   "metadata": {},
   "outputs": [],
   "source": [
    "with open('Matrices/topic_doc_matrix_clean.csv', 'w') as writeFile:\n",
    "    writer = csv.writer(writeFile)\n",
    "    writer.writerows(all_trusted_tops_lines)"
   ]
  },
  {
   "cell_type": "raw",
   "metadata": {},
   "source": [
    "f = open('matrices/topic_doc_matrix.csv', 'w')\n",
    "writer = csv.writer(f)\n",
    "for i in range(len(train_docs)):\n",
    "    print(i)\n",
    "    if(i % 10000 == 0):\n",
    "        f.close()\n",
    "        f = open('matrices/topic_doc_matrix' + str(i) + '.csv', 'w')\n",
    "        writer = csv.writer(f)\n",
    "    t0 = time.clock()\n",
    "    tops = ldamodel_10k[doc_term_matrix[i]]\n",
    "    print(t0-time.clock())\n",
    "    writer.writerow([round(v, 3) if v > .1 else 0 for t, v in tops])\n",
    "    print(t0-time.clock())\n",
    "f.close()"
   ]
  },
  {
   "cell_type": "code",
   "execution_count": null,
   "metadata": {},
   "outputs": [],
   "source": [
    "import gensim.matutils as mt"
   ]
  },
  {
   "cell_type": "code",
   "execution_count": null,
   "metadata": {},
   "outputs": [],
   "source": [
    "term_topic_matrix = ldamodel_10k.get_topics()\n",
    "K = 100\n",
    "topic_comps = np.zeros((K,K))\n",
    "ind = list(range(term_topic_matrix.shape[1]))\n",
    "for i1 in range(K):\n",
    "    print('!!!' + str(i1))\n",
    "    a = list(term_topic_matrix[i1, :])\n",
    "    #print('A')\n",
    "    a = list(zip(ind, a))\n",
    "    #print('B')\n",
    "    #a = [(1,4)]\n",
    "    #print(a)\n",
    "    for j1 in range(i1, K):\n",
    "        #print(j1)\n",
    "        b = list(term_topic_matrix[j1, :])\n",
    "        #print('a')\n",
    "        b = list(zip(ind, b))\n",
    "        #print('b')\n",
    "        sim = mt.cossim(a, b)\n",
    "        #print('c')\n",
    "        topic_comps[i1, j1] = sim\n",
    "        #print('d')\n",
    "        topic_comps[j1, i1] = sim  \n",
    "        #print('e')"
   ]
  },
  {
   "cell_type": "code",
   "execution_count": null,
   "metadata": {},
   "outputs": [],
   "source": [
    "#np.savetxt(\"topic_sims.csv\", topic_comps, delimiter=\",\")"
   ]
  },
  {
   "cell_type": "code",
   "execution_count": null,
   "metadata": {},
   "outputs": [],
   "source": []
  },
  {
   "cell_type": "code",
   "execution_count": 44,
   "metadata": {},
   "outputs": [],
   "source": [
    "def get_docs(top, matches):\n",
    "    tot_length = 0\n",
    "    docs = []\n",
    "    scores = []\n",
    "    print(\"NNNNNNNNNNNNNNNNNNNNNNNNNNNNNNNNNNNNNNNNNNNNNNNNNNNNNNNNNNNNNNNNNNNNNNNNNNNNNNNNNN\")\n",
    "    print(top)\n",
    "    while(tot_length < 500 and len(docs) < 3):\n",
    "        doc_i = matches.loc[top, 'match_' + str(len(docs) + 1)]\n",
    "        print(doc_i)\n",
    "        doc = train_docs_unshuffled[doc_i]\n",
    "        b = ldamodel_10k[doc_term_matrix_unshuffled[doc_i]]\n",
    "        print(sorted(b, key=lambda a:a[1], reverse=True))\n",
    "        scores.append(matches.loc[top, 'value_' + str(len(docs) + 1)])\n",
    "        tot_length += len(doc.split()) \n",
    "        docs.append(doc)\n",
    "    return docs, scores"
   ]
  },
  {
   "cell_type": "code",
   "execution_count": 33,
   "metadata": {},
   "outputs": [
    {
     "name": "stdout",
     "output_type": "stream",
     "text": [
      "[7881, 3626, 8661, 1168, 605, 8775, 4821, 460, 4088, 2876, 5018, 8894, 5249, 5064, 8652, 601, 58, 1637, 5480, 3227, 4079, 4770, 9201, 7073, 226, 5147, 7869, 7806, 4207, 1647, 4218, 2518, 6879, 7014, 5433, 1657, 3266, 1421, 4316, 2015, 8691, 357, 8505, 2648, 6019, 9572, 4544, 9723, 8136, 6527, 653, 9012, 5211, 2731, 7761, 6877, 4907, 8564, 6245, 3070, 2443, 8129, 1899, 8758, 4421, 2659, 5383, 2116, 7143, 6827, 2327, 7561, 7922, 2532, 2425, 1606, 5219, 4750, 8810, 9991, 8559, 5291, 2885, 8692, 1166, 1557, 7017, 5932, 6028, 7056, 8476, 1591, 77, 4640, 2832, 1467, 7912, 4216, 1795, 2841, 6870, 6051, 3475, 4705, 63, 6692, 6240, 6035, 3476, 8781, 9441, 3371, 4068, 81, 9898, 7613, 8280, 9309, 3355, 5983, 8937, 2288, 4441, 4813, 2511, 9069, 3278, 7094, 2822, 3493, 896, 8413, 90, 7352, 2604, 8246, 3088, 5189, 5554, 2823, 3845, 4895, 3878, 867, 3465, 5664, 1585, 8629, 6479, 1803]\n",
      "[20000, 20000, 20000, 20000, 20000, 20000, 20000, 20000, 20000, 20000, 20000, 20000, 20000, 20000, 20000, 20000, 20000, 20000, 20000, 20000, 20000, 20000, 20000, 20000, 20000, 20000, 20000, 20000, 20000, 20000, 30000, 30000, 30000, 30000, 30000, 30000, 30000, 30000, 30000, 30000, 30000, 30000, 30000, 30000, 30000, 30000, 30000, 30000, 30000, 30000, 30000, 30000, 30000, 30000, 30000, 30000, 30000, 30000, 30000, 30000, 40000, 40000, 40000, 40000, 40000, 40000, 40000, 40000, 40000, 40000, 40000, 40000, 40000, 40000, 40000, 40000, 40000, 40000, 40000, 40000, 40000, 40000, 40000, 40000, 40000, 40000, 40000, 40000, 40000, 40000, 50000, 50000, 50000, 50000, 50000, 50000, 50000, 50000, 50000, 50000, 50000, 50000, 50000, 50000, 50000, 50000, 50000, 50000, 50000, 50000, 50000, 50000, 50000, 50000, 50000, 50000, 50000, 50000, 50000, 50000, 60000, 60000, 60000, 60000, 60000, 60000, 60000, 60000, 60000, 60000, 60000, 60000, 60000, 60000, 60000, 60000, 60000, 60000, 60000, 60000, 60000, 60000, 60000, 60000, 60000, 60000, 60000, 60000, 60000, 60000]\n",
      "[20058, 20226, 20460, 20601, 20605, 21168, 21637, 21647, 22876, 23227, 23626, 24079, 24088, 24207, 24770, 24821, 25018, 25064, 25147, 25249, 25480, 27073, 27806, 27869, 27881, 28652, 28661, 28775, 28894, 29201, 30357, 30653, 31421, 31657, 32015, 32518, 32648, 32731, 33070, 33266, 34218, 34316, 34544, 34907, 35211, 35433, 36019, 36245, 36527, 36877, 36879, 37014, 37761, 38136, 38505, 38564, 38691, 39012, 39572, 39723, 41166, 41557, 41606, 41899, 42116, 42327, 42425, 42443, 42532, 42659, 42885, 44421, 44750, 45219, 45291, 45383, 45932, 46028, 46827, 47017, 47056, 47143, 47561, 47922, 48129, 48559, 48692, 48758, 48810, 49991, 50063, 50077, 50081, 51467, 51591, 51795, 52832, 52841, 53355, 53371, 53475, 53476, 54068, 54216, 54640, 54705, 55983, 56035, 56051, 56240, 56692, 56870, 57613, 57912, 58280, 58476, 58781, 59309, 59441, 59898, 60090, 60867, 60896, 61585, 61803, 62288, 62511, 62604, 62822, 62823, 63088, 63278, 63465, 63493, 63845, 63878, 64441, 64813, 64895, 65189, 65554, 65664, 66479, 67094, 67352, 68246, 68413, 68629, 68937, 69069]\n"
     ]
    }
   ],
   "source": [
    "#Do sampling for documents to make summary for\n",
    "nums = [random.randint(0, 9999) for i in range(5*30)]\n",
    "type_nums = [10000*(int(i/30)+2) for i in range(30*5)]\n",
    "sampled_doc_nums = list(tuple(map(sum, zip(nums, type_nums))))\n",
    "sampled_doc_nums = sorted(sampled_doc_nums)\n",
    "# Unshuffled Matrix => 0-20k -> trustworthy; 20k-70k -> untrustworthy\n",
    "\n",
    "with open('sampled_tr_docs_10k_not_shuffled.json', 'r') as outfile:  \n",
    "    train_docs_unshuffled = json.load(outfile)\n",
    "matches = pd.read_csv('Matrices/topics_match_indices_2.csv')\n",
    "print(nums)\n",
    "print(type_nums)\n",
    "print(sampled_doc_nums)"
   ]
  },
  {
   "cell_type": "code",
   "execution_count": 188,
   "metadata": {
    "scrolled": false
   },
   "outputs": [
    {
     "name": "stdout",
     "output_type": "stream",
     "text": [
      "21168\n",
      "28661\n",
      "34218\n",
      "42327\n",
      "48129\n",
      "56051\n",
      "58476\n",
      "65554\n",
      "68413\n",
      "69069\n"
     ]
    }
   ],
   "source": [
    "for i in sampled_doc_nums:\n",
    "    if i in messed_up_docs:\n",
    "        print(i)"
   ]
  },
  {
   "cell_type": "code",
   "execution_count": 41,
   "metadata": {
    "scrolled": true
   },
   "outputs": [
    {
     "name": "stdout",
     "output_type": "stream",
     "text": [
      "    index  value_1  value_2  value_3  match_1  match_2  match_3\n",
      "0       0    0.770    0.767    0.752    11014     6274    13670\n",
      "1       1    0.860    0.776    0.686    19921    12480      311\n",
      "2       2    0.582    0.483    0.482     8986     8710     3106\n",
      "3       3    0.744    0.740    0.738    14571     7612    17087\n",
      "4       4    0.994    0.994    0.993    11115    11115      116\n",
      "5       5    0.994    0.994    0.989    13810    13810    16262\n",
      "6       6    0.970    0.365    0.322     6132    14462     8641\n",
      "7       7    0.791    0.699    0.576    14148    15342     5758\n",
      "8       8    0.969    0.934    0.921    18645    12695     6955\n",
      "9       9    0.884    0.854    0.836    19226    18610    12531\n",
      "10     10    0.218    0.207    0.184     8062     4321     6874\n",
      "11     11    0.611    0.602    0.572    14646    14269    19729\n",
      "12     12    0.632    0.622    0.564    18657     6937     8904\n",
      "13     13    0.498    0.370    0.352     1569     4830    11161\n",
      "14     14    0.729    0.604    0.502     7090    13208    10699\n",
      "15     15    0.944    0.942    0.916    10458     2442     1267\n",
      "16     16    0.822    0.781    0.777    16492     6528    15530\n",
      "17     17    0.282    0.254    0.253        5     8368    14010\n",
      "18     18    0.497    0.418    0.404    12516    15097    16284\n",
      "19     19    0.457    0.414    0.383     9973     6380    18811\n",
      "20     20    0.718    0.608    0.602    15533    19627     4106\n",
      "21     21    0.460    0.437    0.428    15737     8833     8138\n",
      "22     22    0.455    0.439    0.438    13012     4640     1953\n",
      "23     23    0.484    0.468    0.362    17240     5887     7687\n",
      "24     24    0.603    0.588    0.580     8208    17640     9076\n",
      "25     25    0.469    0.430    0.415    16855    18146     7458\n",
      "26     26    0.953    0.938    0.921     7283     5463    19439\n",
      "27     27    0.504    0.487    0.476     5548     7593     7143\n",
      "28     28    0.843    0.825    0.779    19718     1098      564\n",
      "29     29    0.510    0.488    0.484    11178    14334    12028\n",
      "..    ...      ...      ...      ...      ...      ...      ...\n",
      "70     70    0.946    0.944    0.943     7976     7821     3150\n",
      "71     71    0.883    0.825    0.784     2850     3949     3997\n",
      "72     72    0.740    0.571    0.541     4944     2974    11146\n",
      "73     73    0.710    0.701    0.688    13713    12768    19265\n",
      "74     74    0.541    0.535    0.528     6883     1976     3981\n",
      "75     75    0.549    0.395    0.300     9165    19376     5079\n",
      "76     76    0.850    0.688    0.676    11645    19903    10624\n",
      "77     77    0.742    0.690    0.655     9457    13237    16526\n",
      "78     78    0.807    0.807    0.773     4453     4453    17938\n",
      "79     79    0.859    0.347    0.339     7122    11891    19116\n",
      "80     80    0.595    0.591    0.527     6843    16167    15030\n",
      "81     81    0.994    0.993    0.993    10762      433      433\n",
      "82     82    0.599    0.585    0.532    18349    15156    13228\n",
      "83     83    0.939    0.362    0.254    15766     4284      929\n",
      "84     84    0.502    0.426    0.382     2614     6606     3177\n",
      "85     85    0.847    0.658    0.654    15367     7866     6718\n",
      "86     86    0.865    0.837    0.823    18979     9371     1430\n",
      "87     87    0.651    0.605    0.601     6959     5215     2822\n",
      "88     88    0.604    0.565    0.565    14208    10855    10855\n",
      "89     89    0.567    0.382    0.356    19139    13075    16021\n",
      "90     90    0.767    0.736    0.721     2811    16587    12423\n",
      "91     91    0.654    0.565    0.533        1    16662     1334\n",
      "92     92    0.886    0.818    0.770     2448     9068    10781\n",
      "93     93    0.800    0.755    0.737    15402    15584     1743\n",
      "94     94    0.974    0.971    0.969     8552     2417     4032\n",
      "95     95    0.969    0.966    0.962    11065    13926     1886\n",
      "96     96    0.960    0.929    0.918     6165     3781      720\n",
      "97     97    0.357    0.353    0.341     5228    17093     7257\n",
      "98     98    0.984    0.645    0.512     5630      951     1596\n",
      "99     99    0.617    0.612    0.574     4124     7266    13164\n",
      "\n",
      "[100 rows x 7 columns]\n"
     ]
    }
   ],
   "source": [
    "print(matches)"
   ]
  },
  {
   "cell_type": "code",
   "execution_count": 50,
   "metadata": {},
   "outputs": [
    {
     "name": "stdout",
     "output_type": "stream",
     "text": [
      "[[(0, 0.0022617167428406575), (1, 0.00022975638196883732), (2, 3.554721633405734e-05), (3, 1.1625804748901216e-05), (4, 0.00019399540815709035), (5, 0.00010095436987704412), (6, 9.282507899210898e-05), (7, 4.613188546568354e-05), (8, 6.891778752179942e-05), (9, 0.00017892835894694787), (10, 9.615135433182658e-05), (11, 0.0016114112060415973), (12, 0.00013907438493430033), (13, 0.0934878397143368), (14, 0.00035937785174711676), (15, 5.28505158569313e-05), (16, 0.0007525561573610998), (17, 0.013104783557516831), (18, 0.00036641918922359425), (19, 0.00010243188276656357), (20, 1.4055849832434545e-05), (21, 0.00021650441322635918), (22, 0.0020275468524839175), (23, 3.9436409699402706e-05), (24, 0.00020486782435606235), (25, 1.3971006970125317e-05), (26, 0.0003154245877369151), (27, 7.907435385474066e-06), (28, 0.0001758483143601364), (29, 0.06362485242276358), (30, 0.00019326108764138454), (31, 0.00013464128791982694), (32, 1.4092024206660287e-05), (33, 6.178135370675756e-05), (34, 1.0884973863719513e-05), (35, 3.476520360047583e-05), (36, 0.0015853708274420077), (37, 0.00021340801596636652), (38, 0.00025428756448056197), (39, 0.00018246915291611788), (40, 0.00027404622259308704), (41, 6.342316797331883e-05), (42, 0.0007573182531125228), (43, 0.0011008176463102432), (44, 8.545950693836335e-05), (45, 0.00024161955805458338), (46, 0.4462481693680466), (47, 0.15652363878333475), (48, 2.13701746165909e-05), (49, 0.00013291137820887317), (50, 0.0002024542561219868), (51, 0.00042784415932544106), (52, 0.0001208014157423571), (53, 4.9673489928762985e-06), (54, 0.000166035604316043), (55, 0.00013215885543614), (56, 0.001941806294931849), (57, 2.610591959214132e-05), (58, 0.000158512824201764), (59, 0.00010821012459473216), (60, 0.0001696747796528617), (61, 0.0042385552435921575), (62, 3.983602578270198e-05), (63, 0.0001573672863515868), (64, 0.00016868503735935046), (65, 0.00013908465891228269), (66, 0.00021481413884754383), (67, 0.00010917264964033147), (68, 0.00018486540744567384), (69, 0.0007633163617198088), (70, 0.0010353593490093909), (71, 3.3945891526576116e-05), (72, 5.2860103186640936e-06), (73, 2.520830079724979e-05), (74, 0.002138334348588325), (75, 9.913630062879159e-05), (76, 0.0001185216542995049), (77, 0.00016445698930383785), (78, 8.061361381169138e-05), (79, 0.00023088944875703383), (80, 5.2740394640085015e-06), (81, 9.995627220074221e-05), (82, 0.0027456173950922333), (83, 9.462501773349032e-05), (84, 0.0007218299471573562), (85, 8.875630860357391e-06), (86, 0.00011291927693279567), (87, 5.307403288748097e-05), (88, 0.00011002778900712055), (89, 0.18941766363296203), (90, 0.00017329728889453443), (91, 0.0008084864180493054), (92, 8.539059724024282e-05), (93, 4.495992538951884e-05), (94, 0.0003481706385256708), (95, 0.0021658413704723463), (96, 8.981139232530518e-05), (97, 0.0003915844119730774), (98, 0.0010362339528721882), (99, 1.289515364231469e-05)], [(0, 0.00017063684946917778), (1, 0.06061629715375154), (2, 2.812414540086942e-05), (3, 9.198071097537789e-06), (4, 0.0006930786556518482), (5, 7.987279089853473e-05), (6, 7.344108168380133e-05), (7, 3.6498493785295274e-05), (8, 5.452617889272792e-05), (9, 0.00014156402954516645), (10, 7.607275473573357e-05), (11, 0.21765207405663053), (12, 0.00011003247586735312), (13, 0.008134984461015496), (14, 0.00028433154544099784), (15, 4.181412064739406e-05), (16, 5.5811316712850036e-05), (17, 0.0006555147617752959), (18, 0.00028990249077590194), (19, 8.104176533934604e-05), (20, 1.112066724733759e-05), (21, 0.00017129334517466128), (22, 0.0005249609034147726), (23, 3.120118633344658e-05), (24, 0.00016208674192666475), (25, 1.1053541513120124e-05), (26, 0.00024955672717537255), (27, 6.256182212388418e-06), (28, 0.00013912716863919295), (29, 0.0006958888389687602), (30, 0.00015290375702214893), (31, 0.00010652511079438796), (32, 1.1149287585733411e-05), (33, 4.88799955074589e-05), (34, 8.611942627265895e-06), (35, 2.7505434793043117e-05), (36, 0.0028730909400636936), (37, 0.00016884354640728342), (38, 0.0018199682742440118), (39, 0.0006839593458505335), (40, 0.0002168191100629931), (41, 5.017896144392103e-05), (42, 0.07452354007814131), (43, 0.0003313478498884434), (44, 6.76136093592904e-05), (45, 0.0001911638739461683), (46, 0.00016693163511496829), (47, 0.0008105128506316341), (48, 1.6907593903018045e-05), (49, 0.00010515644575507723), (50, 0.00016017718188370223), (51, 0.0008780944447326175), (52, 9.55753201331235e-05), (53, 3.930053031991373e-06), (54, 0.0001313635766475397), (55, 0.00010456106693050423), (56, 0.002075906696276238), (57, 2.0654407128058404e-05), (58, 0.00012541172489733532), (59, 8.561337825580112e-05), (60, 0.006069775940193344), (61, 0.0006554784635489213), (62, 3.1517353448351346e-05), (63, 0.00012450540152287418), (64, 0.0001334597475386611), (65, 0.00011004060440399876), (66, 0.00016995603870457288), (67, 8.6374906080653e-05), (68, 0.00014626128667104176), (69, 6.432454455841437e-05), (70, 0.0002795587406180586), (71, 2.6857213799351216e-05), (72, 4.182170592361446e-06), (73, 1.994423164582533e-05), (74, 7.301951810769428e-05), (75, 7.843437604753233e-05), (76, 9.377162496623522e-05), (77, 0.0001301146125171834), (78, 6.377964943368515e-05), (79, 0.00018267445662539835), (80, 4.172699525661239e-06), (81, 7.908311882101427e-05), (82, 1.3894068627973897e-05), (83, 7.486515209200279e-05), (84, 3.1501441214671314e-05), (85, 7.022196351335046e-06), (86, 8.933915199363535e-05), (87, 4.199096221517462e-05), (88, 8.70514728099173e-05), (89, 0.00039541163789859904), (90, 0.00013710885557519157), (91, 0.00010006206110648534), (92, 6.755908958054713e-05), (93, 3.557126574931286e-05), (94, 0.0002754646543962408), (95, 9.47824453574986e-05), (96, 7.105672164802979e-05), (97, 0.6089717555449877), (98, 0.00351781423330192), (99, 1.0202350940642974e-05)], [(0, 0.00019104838142616645), (1, 0.00020352223332967015), (2, 3.148834776629422e-05), (3, 1.0298341776081695e-05), (4, 0.00017184453544009527), (5, 8.942715168866293e-05), (6, 8.222608322601219e-05), (7, 4.086443334992065e-05), (8, 6.104858508121322e-05), (9, 0.00015849787895700287), (10, 8.517255626849138e-05), (11, 0.002635696300518368), (12, 0.0001231945296937088), (13, 0.022399168885940925), (14, 0.0003183432049635632), (15, 4.681591400271402e-05), (16, 6.248745072604705e-05), (17, 0.002546347235674693), (18, 0.0009287205393468786), (19, 9.073595852341346e-05), (20, 1.245091833676051e-05), (21, 0.0001917834069633586), (22, 0.0036084565497513737), (23, 3.493346347008078e-05), (24, 0.0001814755124233792), (25, 1.2375763041089124e-05), (26, 0.0008835486268481302), (27, 7.0045449696366795e-06), (28, 0.0013640495097021793), (29, 0.0001749908720952609), (30, 0.0001711940614464871), (31, 0.0001192676145968516), (32, 1.2482962231988304e-05), (33, 5.472700682688776e-05), (34, 9.642100782992644e-06), (35, 3.079562716951734e-05), (36, 0.01590370914732102), (37, 0.0001890405639562161), (38, 0.2890041695810522), (39, 0.1711332527162256), (40, 0.0014510349393151109), (41, 5.618135470345027e-05), (42, 6.670579867509709e-05), (43, 0.0027875435630649787), (44, 0.046594481078601986), (45, 0.0002140308427996854), (46, 0.0001868999503726701), (47, 0.05225936567131094), (48, 1.8930075531932427e-05), (49, 0.06536485459667919), (50, 0.0001793375313449723), (51, 0.0003789918611913874), (52, 0.001315288001322917), (53, 4.400164870698534e-06), (54, 0.00014707725075173677), (55, 0.00011706863235818364), (56, 0.004136646054021096), (57, 2.3125081501492448e-05), (58, 0.00014041344016860457), (59, 9.585442649157331e-05), (60, 0.00015030089610026096), (61, 0.14270678523450292), (62, 3.528745040637644e-05), (63, 0.00013939870264691366), (64, 0.00014942416501549153), (65, 0.00012320363056362254), (66, 0.00019028613226931734), (67, 9.670704806072164e-05), (68, 0.11676277588848019), (69, 7.201902849290578e-05), (70, 0.0009171394727034184), (71, 3.0069866162814808e-05), (72, 4.6824406627543216e-06), (73, 0.040499709561991365), (74, 0.0024983140688686007), (75, 8.78166740576105e-05), (76, 0.00010498856037972458), (77, 0.0001456788858832679), (78, 7.140895316656e-05), (79, 0.00020452592376590234), (80, 4.6718366697183354e-06), (81, 8.854301925925484e-05), (82, 1.5556073210774812e-05), (83, 8.382050053604892e-05), (84, 3.52696347557775e-05), (85, 7.86218950451041e-06), (86, 0.0019124458586377395), (87, 4.7013909309111445e-05), (88, 9.746454551191602e-05), (89, 0.000442710666849496), (90, 0.00015350977832936306), (91, 0.000716171450856228), (92, 7.564048888115652e-05), (93, 3.982629055697485e-05), (94, 0.0015166956471726314), (95, 0.00010612029482198709), (96, 7.955650671315193e-05), (97, 0.0003468723409504934), (98, 0.00031377421801282015), (99, 1.1422753291654286e-05)], [(0, 0.00041322779549872316), (1, 0.00010576241604962405), (2, 1.6363242888454286e-05), (3, 5.351638932631507e-06), (4, 8.930077542746852e-05), (5, 4.647173661714327e-05), (6, 4.2729627530147194e-05), (7, 2.1235621931220112e-05), (8, 3.172452340448484e-05), (9, 0.0007102601375579032), (10, 4.426079246824469e-05), (11, 0.0001138764384093478), (12, 6.401930094486798e-05), (13, 0.0028494266098733883), (14, 0.0001654303116622629), (15, 2.432836989597163e-05), (16, 3.247224469507192e-05), (17, 0.018590350407890182), (18, 0.3075233177076548), (19, 4.7151871513075055e-05), (20, 6.47024742107321e-06), (21, 0.0007275573035915389), (22, 0.0006193812793928262), (23, 1.815353260001009e-05), (24, 9.430561140045278e-05), (25, 6.43119220081993e-06), (26, 0.08899235266478635), (27, 3.6399836381365858e-06), (28, 0.03681280993992304), (29, 0.00825357195940915), (30, 0.00040291029447822347), (31, 6.19786392369522e-05), (32, 6.486899359898206e-06), (33, 2.8439450425056425e-05), (34, 5.0106165695981884e-06), (35, 1.6003263525198258e-05), (36, 0.0001018894227193417), (37, 0.01705140427282446), (38, 0.00011705471230168715), (39, 0.0003979425060728994), (40, 0.00012615010021636364), (41, 2.9195217216160455e-05), (42, 0.03268520898394292), (43, 0.0005067329704017666), (44, 3.9339076680955175e-05), (45, 0.002622803679012949), (46, 9.712447621852393e-05), (47, 0.0007855216474993051), (48, 9.837207913378248e-06), (49, 6.118231998344397e-05), (50, 9.319458760407755e-05), (51, 0.000510894552469425), (52, 5.560781155084372e-05), (53, 2.286590806950992e-06), (54, 7.64302019044932e-05), (55, 6.0835915561966705e-05), (56, 0.000579912828321123), (57, 1.2017185793065673e-05), (58, 0.0003869148289185266), (59, 4.981173589215897e-05), (60, 7.81054022743456e-05), (61, 0.02141585718958842), (62, 1.8337485542251978e-05), (63, 7.243996562399852e-05), (64, 7.764979997363371e-05), (65, 6.402403030526505e-05), (66, 9.888414037272372e-05), (67, 5.025480943579035e-05), (68, 0.3011607932229084), (69, 0.00035137297137907345), (70, 0.00016265338943178236), (71, 1.5626114374033372e-05), (72, 2.4332783175571817e-06), (73, 1.1603990165480638e-05), (74, 4.248435262168538e-05), (75, 4.56348353977169e-05), (76, 5.455838225470549e-05), (77, 7.570352725775512e-05), (78, 3.710839494492136e-05), (79, 0.00042023153861288506), (80, 2.4277678438123175e-06), (81, 4.601228813177531e-05), (82, 8.083873000505872e-06), (83, 0.0006714532719057431), (84, 1.8328227456685537e-05), (85, 4.085667417427044e-06), (86, 5.197947253804193e-05), (87, 2.4431260187751976e-05), (88, 5.0648450755851813e-05), (89, 0.009962433019385486), (90, 7.977293083776702e-05), (91, 0.0019419035627773699), (92, 3.9307355881297625e-05), (93, 2.069614038077643e-05), (94, 0.13892508604427117), (95, 5.5146499665673424e-05), (96, 4.134235471375623e-05), (97, 0.00018025576979733798), (98, 0.00016305599072983167), (99, 5.93595090963476e-06)], [(0, 0.00019860754746757142), (1, 0.4096961704555434), (2, 0.11370867256281002), (3, 1.0705813825074813e-05), (4, 0.00017864386745747643), (5, 9.296549461090203e-05), (6, 8.547950317859117e-05), (7, 0.0006705251648403584), (8, 6.346407998243578e-05), (9, 0.14775507578950106), (10, 8.854255862181284e-05), (11, 0.022209341873836323), (12, 0.0001280689384607228), (13, 0.0006758526010707634), (14, 0.003471158305818928), (15, 0.0006767121263180129), (16, 6.495987688331784e-05), (17, 0.00013492252087048538), (18, 0.009758081018816143), (19, 9.432608669557801e-05), (20, 1.294356087250437e-05), (21, 0.002083503230001207), (22, 0.0006110122043855561), (23, 3.631566754216159e-05), (24, 0.00018865591102512044), (25, 1.2865431925056244e-05), (26, 0.0002904639278826308), (27, 7.281692140812449e-06), (28, 0.15277659034481011), (29, 0.001438002410746371), (30, 0.0001779676563134847), (31, 0.00012398664804466085), (32, 1.2976872640942246e-05), (33, 5.689237733913901e-05), (34, 1.0023607500100167e-05), (35, 0.0012881018267298795), (36, 0.0002038271273733423), (37, 0.0001965202871595144), (38, 0.005886559616098869), (39, 0.013356950746342916), (40, 0.0008804038368163288), (41, 5.8404269053544227e-05), (42, 6.934513120618405e-05), (43, 0.00038566220619822055), (44, 7.869679481338943e-05), (45, 0.0008505432085832434), (46, 0.0014503826927022771), (47, 0.0021994593851493664), (48, 1.9679077345263758e-05), (49, 0.00012239363218901348), (50, 0.004582740343924674), (51, 0.009814645214441683), (52, 0.00011124197375371952), (53, 4.574265151574359e-06), (54, 0.00015289662148414675), (55, 0.00012170065919677636), (56, 0.003672275890176488), (57, 2.404006612206805e-05), (58, 0.0001459691454865769), (59, 0.003867910224703412), (60, 0.0007842916741827635), (61, 0.016464020584257038), (62, 3.6683660595692955e-05), (63, 0.00014491425808579438), (64, 0.000783380253686893), (65, 0.00012807839942260009), (66, 0.0001978151385789385), (67, 0.0007285772910562242), (68, 0.00017023635589588206), (69, 0.007611394885989958), (70, 0.00032538385477695207), (71, 3.125963343260656e-05), (72, 4.867709683012759e-06), (73, 2.3213479067532747e-05), (74, 8.498883713422421e-05), (75, 9.129129559300394e-05), (76, 0.00010914261787256504), (77, 0.0007794867859826411), (78, 7.423437429705802e-05), (79, 0.00021261835253173138), (80, 4.8566861242968e-06), (81, 9.20463799231435e-05), (82, 1.617157667369184e-05), (83, 8.713700642055722e-05), (84, 3.6665140037467966e-05), (85, 8.173270893789566e-06), (86, 0.00010398357638156884), (87, 0.002561049530072953), (88, 0.00010132090209120151), (89, 0.046935472797150844), (90, 0.0001595836633563314), (91, 0.00011646417882615094), (92, 7.863333818266542e-05), (93, 4.140208795910966e-05), (94, 0.0009486625263441786), (95, 0.00011031913138335447), (96, 8.270430016436878e-05), (97, 0.00161668467295467), (98, 0.000954233106290512), (99, 1.1874714664669058e-05)]]\n"
     ]
    }
   ],
   "source": [
    "print(all_untrusted_tops[:5])"
   ]
  },
  {
   "cell_type": "code",
   "execution_count": 36,
   "metadata": {},
   "outputs": [],
   "source": [
    "reduce_all_untrusted_tops = list(filter(lambda x: x[0] in sampled_doc_nums, list(enumerate(all_untrusted_tops))))\n",
    "sampled_untrusted_tops = [i[1] for i  in reduce_all_untrusted_tops]\n",
    "sampled_untrusted_tops_lines = list(map(lambda x: [round(v, 3) if v > THRESH else 0 for t, v in x], sampled_untrusted_tops))"
   ]
  },
  {
   "cell_type": "code",
   "execution_count": 53,
   "metadata": {},
   "outputs": [
    {
     "data": {
      "text/plain": [
       "150"
      ]
     },
     "execution_count": 53,
     "metadata": {},
     "output_type": "execute_result"
    }
   ],
   "source": [
    "len(sampled_doc_nums)"
   ]
  },
  {
   "cell_type": "code",
   "execution_count": 38,
   "metadata": {},
   "outputs": [
    {
     "data": {
      "text/plain": [
       "(150, 150, 150)"
      ]
     },
     "execution_count": 38,
     "metadata": {},
     "output_type": "execute_result"
    }
   ],
   "source": [
    "len(reduce_all_untrusted_tops), len(sampled_untrusted_tops), len(sampled_untrusted_tops_lines)"
   ]
  },
  {
   "cell_type": "code",
   "execution_count": 43,
   "metadata": {
    "scrolled": true
   },
   "outputs": [
    {
     "name": "stdout",
     "output_type": "stream",
     "text": [
      "index         51.000\n",
      "value_1        0.688\n",
      "value_2        0.675\n",
      "value_3        0.597\n",
      "match_1     1480.000\n",
      "match_2    16536.000\n",
      "match_3     8624.000\n",
      "Name: 51, dtype: float64\n"
     ]
    }
   ],
   "source": [
    "print(matches.loc[])"
   ]
  },
  {
   "cell_type": "code",
   "execution_count": 85,
   "metadata": {},
   "outputs": [
    {
     "name": "stdout",
     "output_type": "stream",
     "text": [
      "[0, 0.147, 0, 0, 0, 0, 0, 0, 0, 0, 0, 0, 0, 0, 0, 0, 0, 0, 0, 0, 0, 0, 0, 0, 0, 0, 0, 0, 0, 0, 0, 0, 0, 0, 0, 0, 0, 0, 0, 0, 0, 0, 0, 0, 0, 0, 0, 0, 0, 0, 0, 0.181, 0, 0, 0, 0, 0, 0, 0, 0, 0, 0, 0, 0, 0, 0, 0, 0.363, 0, 0.178, 0, 0, 0, 0, 0, 0, 0, 0, 0, 0, 0, 0, 0, 0, 0, 0, 0, 0, 0, 0, 0, 0, 0, 0, 0, 0, 0, 0, 0, 0]\n",
      "[(67, 0.36334238617483344), (51, 0.18115449937444478), (69, 0.17837401966567382), (1, 0.14694384920972145), (94, 0.040619352216180585), (75, 0.02491115182334902), (0, 0.02363335015734314), (56, 0.009749873308810128), (61, 0.0048196822775405), (95, 0.0037509220241560555), (83, 0.00294734584929379), (43, 0.002808515334356675), (76, 0.0024274109389617977), (38, 0.0019508782945772153), (66, 0.001406357506427415), (39, 0.0011292054418769004), (12, 0.001112369440356464), (74, 0.0008296161500188044), (89, 0.0007231059327042062), (47, 0.0006620578873451579), (21, 0.0006132040445629856), (79, 0.0003541819700775311), (37, 0.0003473996448634314), (46, 0.00034646209238420225), (29, 0.0003412461178850475), (4, 0.00033986807574133015), (68, 0.0003363258813015903), (13, 0.0002847455288116888), (7, 0.0002825010103408952), (22, 0.0002574274227435346), (97, 0.00015192420796258994), (18, 0.00014216077913978932), (14, 0.00013942892979542705), (98, 0.00013742779092750526), (70, 0.00013708846817850467), (26, 0.00012237624685415715), (40, 0.00010632255534078015), (11, 9.597799687850167e-05), (45, 9.374188262692484e-05), (36, 8.58750311504875e-05), (24, 7.94831995366906e-05), (50, 7.854680005010734e-05), (30, 7.498009821679185e-05), (9, 6.94193854093712e-05), (28, 6.82244110436067e-05), (90, 6.723468185239307e-05), (60, 6.582924580705803e-05), (64, 6.544525244718162e-05), (54, 6.441734376556108e-05), (77, 6.380488364694018e-05), (58, 6.149870764115596e-05), (63, 6.105426980027658e-05), (17, 5.684462039948554e-05), (65, 5.396110263563887e-05), (31, 5.2237194333693494e-05), (49, 5.156603594575053e-05), (55, 5.1274077372514067e-05), (91, 4.906787979351023e-05), (52, 4.686769658409934e-05), (86, 4.3809638962091286e-05), (88, 4.2687819503731985e-05), (59, 4.198261465453364e-05), (19, 3.974081241134022e-05), (5, 3.91675771940247e-05), (81, 3.878034217060427e-05), (10, 3.7304136489471446e-05), (6, 3.60136312216396e-05), (96, 3.4844401942070976e-05), (44, 3.315598759170465e-05), (92, 3.312925248431068e-05), (78, 3.127591154007771e-05), (42, 2.9216009562643377e-05), (16, 2.7368444636267447e-05), (8, 2.673824586384022e-05), (41, 2.4606481428293513e-05), (33, 2.3969501700698662e-05), (87, 2.0591295677942786e-05), (15, 2.0504577088555367e-05), (93, 1.74432404508722e-05), (62, 1.5455305370609103e-05), (84, 1.544750241751355e-05), (23, 1.5300265090434395e-05), (2, 1.3791362785906302e-05), (35, 1.3487962901913477e-05), (71, 1.3170091878206948e-05), (57, 1.0128393868354015e-05), (73, 9.780141945405646e-06), (48, 8.291052333490318e-06), (82, 6.813296485614949e-06), (32, 5.467325947422299e-06), (20, 5.453291264261403e-06), (25, 5.420374518181901e-06), (99, 5.002972395640865e-06), (3, 4.510499203747591e-06), (34, 4.2230767680629115e-06), (85, 3.4435057867442016e-06), (27, 3.0678720123213173e-06), (72, 2.050829671433228e-06), (80, 2.04618530215657e-06), (53, 1.9271976573684087e-06)]\n",
      "20058\n",
      "NNNNNNNNNNNNNNNNNNNNNNNNNNNNNNNNNNNNNNNNNNNNNNNNNNNNNNNNNNNNNNNNNNNNNNNNNNNNNNNNNN\n",
      "51\n",
      "1480\n"
     ]
    },
    {
     "ename": "KeyboardInterrupt",
     "evalue": "",
     "output_type": "error",
     "traceback": [
      "\u001b[0;31m---------------------------------------------------------------------------\u001b[0m",
      "\u001b[0;31mKeyboardInterrupt\u001b[0m                         Traceback (most recent call last)",
      "\u001b[0;32m<ipython-input-85-fffb74996913>\u001b[0m in \u001b[0;36m<module>\u001b[0;34m\u001b[0m\n\u001b[1;32m     15\u001b[0m         \u001b[0;31m#print(top)\u001b[0m\u001b[0;34m\u001b[0m\u001b[0;34m\u001b[0m\u001b[0m\n\u001b[1;32m     16\u001b[0m         \u001b[0;31m#print(ldamodel_10k.show_topic(i))\u001b[0m\u001b[0;34m\u001b[0m\u001b[0;34m\u001b[0m\u001b[0m\n\u001b[0;32m---> 17\u001b[0;31m         \u001b[0mtopic_docs\u001b[0m\u001b[0;34m,\u001b[0m \u001b[0mscores\u001b[0m \u001b[0;34m=\u001b[0m \u001b[0mget_docs\u001b[0m\u001b[0;34m(\u001b[0m\u001b[0mi\u001b[0m\u001b[0;34m,\u001b[0m \u001b[0mmatches\u001b[0m\u001b[0;34m)\u001b[0m\u001b[0;34m\u001b[0m\u001b[0m\n\u001b[0m\u001b[1;32m     18\u001b[0m         \u001b[0mmatched_documents\u001b[0m\u001b[0;34m.\u001b[0m\u001b[0mappend\u001b[0m\u001b[0;34m(\u001b[0m\u001b[0;34m{\u001b[0m\u001b[0;34m'documents'\u001b[0m\u001b[0;34m:\u001b[0m \u001b[0mtopic_docs\u001b[0m\u001b[0;34m,\u001b[0m \u001b[0;34m'scores'\u001b[0m\u001b[0;34m:\u001b[0m \u001b[0mscores\u001b[0m\u001b[0;34m}\u001b[0m\u001b[0;34m)\u001b[0m\u001b[0;34m\u001b[0m\u001b[0m\n\u001b[1;32m     19\u001b[0m     \u001b[0;32mwith\u001b[0m \u001b[0mopen\u001b[0m\u001b[0;34m(\u001b[0m\u001b[0;34m'matches2/'\u001b[0m \u001b[0;34m+\u001b[0m \u001b[0mstr\u001b[0m\u001b[0;34m(\u001b[0m\u001b[0msampled_doc_nums\u001b[0m\u001b[0;34m[\u001b[0m\u001b[0mnum\u001b[0m\u001b[0;34m]\u001b[0m\u001b[0;34m)\u001b[0m \u001b[0;34m+\u001b[0m\u001b[0;34m'.json'\u001b[0m\u001b[0;34m,\u001b[0m \u001b[0;34m'w'\u001b[0m\u001b[0;34m)\u001b[0m \u001b[0;32mas\u001b[0m \u001b[0mfout\u001b[0m\u001b[0;34m:\u001b[0m\u001b[0;34m\u001b[0m\u001b[0m\n",
      "\u001b[0;32m<ipython-input-44-14854a2ae063>\u001b[0m in \u001b[0;36mget_docs\u001b[0;34m(top, matches)\u001b[0m\n\u001b[1;32m      9\u001b[0m         \u001b[0mprint\u001b[0m\u001b[0;34m(\u001b[0m\u001b[0mdoc_i\u001b[0m\u001b[0;34m)\u001b[0m\u001b[0;34m\u001b[0m\u001b[0m\n\u001b[1;32m     10\u001b[0m         \u001b[0mdoc\u001b[0m \u001b[0;34m=\u001b[0m \u001b[0mtrain_docs_unshuffled\u001b[0m\u001b[0;34m[\u001b[0m\u001b[0mdoc_i\u001b[0m\u001b[0;34m]\u001b[0m\u001b[0;34m\u001b[0m\u001b[0m\n\u001b[0;32m---> 11\u001b[0;31m         \u001b[0mb\u001b[0m \u001b[0;34m=\u001b[0m \u001b[0mldamodel_10k\u001b[0m\u001b[0;34m[\u001b[0m\u001b[0mdoc_term_matrix_unshuffled\u001b[0m\u001b[0;34m[\u001b[0m\u001b[0mdoc_i\u001b[0m\u001b[0;34m]\u001b[0m\u001b[0;34m]\u001b[0m\u001b[0;34m\u001b[0m\u001b[0m\n\u001b[0m\u001b[1;32m     12\u001b[0m         \u001b[0mprint\u001b[0m\u001b[0;34m(\u001b[0m\u001b[0msorted\u001b[0m\u001b[0;34m(\u001b[0m\u001b[0mb\u001b[0m\u001b[0;34m,\u001b[0m \u001b[0mkey\u001b[0m\u001b[0;34m=\u001b[0m\u001b[0;32mlambda\u001b[0m \u001b[0ma\u001b[0m\u001b[0;34m:\u001b[0m\u001b[0ma\u001b[0m\u001b[0;34m[\u001b[0m\u001b[0;36m1\u001b[0m\u001b[0;34m]\u001b[0m\u001b[0;34m,\u001b[0m \u001b[0mreverse\u001b[0m\u001b[0;34m=\u001b[0m\u001b[0;32mTrue\u001b[0m\u001b[0;34m)\u001b[0m\u001b[0;34m)\u001b[0m\u001b[0;34m\u001b[0m\u001b[0m\n\u001b[1;32m     13\u001b[0m         \u001b[0mscores\u001b[0m\u001b[0;34m.\u001b[0m\u001b[0mappend\u001b[0m\u001b[0;34m(\u001b[0m\u001b[0mmatches\u001b[0m\u001b[0;34m.\u001b[0m\u001b[0mloc\u001b[0m\u001b[0;34m[\u001b[0m\u001b[0mtop\u001b[0m\u001b[0;34m,\u001b[0m \u001b[0;34m'value_'\u001b[0m \u001b[0;34m+\u001b[0m \u001b[0mstr\u001b[0m\u001b[0;34m(\u001b[0m\u001b[0mlen\u001b[0m\u001b[0;34m(\u001b[0m\u001b[0mdocs\u001b[0m\u001b[0;34m)\u001b[0m \u001b[0;34m+\u001b[0m \u001b[0;36m1\u001b[0m\u001b[0;34m)\u001b[0m\u001b[0;34m]\u001b[0m\u001b[0;34m)\u001b[0m\u001b[0;34m\u001b[0m\u001b[0m\n",
      "\u001b[0;32m~/.virtualenvs/ml/lib/python3.5/site-packages/gensim/models/wrappers/ldamallet.py\u001b[0m in \u001b[0;36m__getitem__\u001b[0;34m(self, bow, iterations)\u001b[0m\n\u001b[1;32m    313\u001b[0m             \u001b[0mbow\u001b[0m \u001b[0;34m=\u001b[0m \u001b[0;34m[\u001b[0m\u001b[0mbow\u001b[0m\u001b[0;34m]\u001b[0m\u001b[0;34m\u001b[0m\u001b[0m\n\u001b[1;32m    314\u001b[0m \u001b[0;34m\u001b[0m\u001b[0m\n\u001b[0;32m--> 315\u001b[0;31m         \u001b[0mself\u001b[0m\u001b[0;34m.\u001b[0m\u001b[0mconvert_input\u001b[0m\u001b[0;34m(\u001b[0m\u001b[0mbow\u001b[0m\u001b[0;34m,\u001b[0m \u001b[0minfer\u001b[0m\u001b[0;34m=\u001b[0m\u001b[0;32mTrue\u001b[0m\u001b[0;34m)\u001b[0m\u001b[0;34m\u001b[0m\u001b[0m\n\u001b[0m\u001b[1;32m    316\u001b[0m         \u001b[0mcmd\u001b[0m \u001b[0;34m=\u001b[0m\u001b[0;31m \u001b[0m\u001b[0;31m\\\u001b[0m\u001b[0;34m\u001b[0m\u001b[0m\n\u001b[1;32m    317\u001b[0m             \u001b[0mself\u001b[0m\u001b[0;34m.\u001b[0m\u001b[0mmallet_path\u001b[0m \u001b[0;34m+\u001b[0m \u001b[0;34m' infer-topics --input %s --inferencer %s '\u001b[0m\u001b[0;31m \u001b[0m\u001b[0;31m\\\u001b[0m\u001b[0;34m\u001b[0m\u001b[0m\n",
      "\u001b[0;32m~/.virtualenvs/ml/lib/python3.5/site-packages/gensim/models/wrappers/ldamallet.py\u001b[0m in \u001b[0;36mconvert_input\u001b[0;34m(self, corpus, infer, serialize_corpus)\u001b[0m\n\u001b[1;32m    260\u001b[0m             \u001b[0mcmd\u001b[0m \u001b[0;34m=\u001b[0m \u001b[0mcmd\u001b[0m \u001b[0;34m%\u001b[0m \u001b[0;34m(\u001b[0m\u001b[0mself\u001b[0m\u001b[0;34m.\u001b[0m\u001b[0mfcorpustxt\u001b[0m\u001b[0;34m(\u001b[0m\u001b[0;34m)\u001b[0m\u001b[0;34m,\u001b[0m \u001b[0mself\u001b[0m\u001b[0;34m.\u001b[0m\u001b[0mfcorpusmallet\u001b[0m\u001b[0;34m(\u001b[0m\u001b[0;34m)\u001b[0m\u001b[0;34m)\u001b[0m\u001b[0;34m\u001b[0m\u001b[0m\n\u001b[1;32m    261\u001b[0m         \u001b[0mlogger\u001b[0m\u001b[0;34m.\u001b[0m\u001b[0minfo\u001b[0m\u001b[0;34m(\u001b[0m\u001b[0;34m\"converting temporary corpus to MALLET format with %s\"\u001b[0m\u001b[0;34m,\u001b[0m \u001b[0mcmd\u001b[0m\u001b[0;34m)\u001b[0m\u001b[0;34m\u001b[0m\u001b[0m\n\u001b[0;32m--> 262\u001b[0;31m         \u001b[0mcheck_output\u001b[0m\u001b[0;34m(\u001b[0m\u001b[0margs\u001b[0m\u001b[0;34m=\u001b[0m\u001b[0mcmd\u001b[0m\u001b[0;34m,\u001b[0m \u001b[0mshell\u001b[0m\u001b[0;34m=\u001b[0m\u001b[0;32mTrue\u001b[0m\u001b[0;34m)\u001b[0m\u001b[0;34m\u001b[0m\u001b[0m\n\u001b[0m\u001b[1;32m    263\u001b[0m \u001b[0;34m\u001b[0m\u001b[0m\n\u001b[1;32m    264\u001b[0m     \u001b[0;32mdef\u001b[0m \u001b[0mtrain\u001b[0m\u001b[0;34m(\u001b[0m\u001b[0mself\u001b[0m\u001b[0;34m,\u001b[0m \u001b[0mcorpus\u001b[0m\u001b[0;34m)\u001b[0m\u001b[0;34m:\u001b[0m\u001b[0;34m\u001b[0m\u001b[0m\n",
      "\u001b[0;32m~/.virtualenvs/ml/lib/python3.5/site-packages/gensim/utils.py\u001b[0m in \u001b[0;36mcheck_output\u001b[0;34m(stdout, *popenargs, **kwargs)\u001b[0m\n\u001b[1;32m   1908\u001b[0m         \u001b[0mlogger\u001b[0m\u001b[0;34m.\u001b[0m\u001b[0mdebug\u001b[0m\u001b[0;34m(\u001b[0m\u001b[0;34m\"COMMAND: %s %s\"\u001b[0m\u001b[0;34m,\u001b[0m \u001b[0mpopenargs\u001b[0m\u001b[0;34m,\u001b[0m \u001b[0mkwargs\u001b[0m\u001b[0;34m)\u001b[0m\u001b[0;34m\u001b[0m\u001b[0m\n\u001b[1;32m   1909\u001b[0m         \u001b[0mprocess\u001b[0m \u001b[0;34m=\u001b[0m \u001b[0msubprocess\u001b[0m\u001b[0;34m.\u001b[0m\u001b[0mPopen\u001b[0m\u001b[0;34m(\u001b[0m\u001b[0mstdout\u001b[0m\u001b[0;34m=\u001b[0m\u001b[0mstdout\u001b[0m\u001b[0;34m,\u001b[0m \u001b[0;34m*\u001b[0m\u001b[0mpopenargs\u001b[0m\u001b[0;34m,\u001b[0m \u001b[0;34m**\u001b[0m\u001b[0mkwargs\u001b[0m\u001b[0;34m)\u001b[0m\u001b[0;34m\u001b[0m\u001b[0m\n\u001b[0;32m-> 1910\u001b[0;31m         \u001b[0moutput\u001b[0m\u001b[0;34m,\u001b[0m \u001b[0munused_err\u001b[0m \u001b[0;34m=\u001b[0m \u001b[0mprocess\u001b[0m\u001b[0;34m.\u001b[0m\u001b[0mcommunicate\u001b[0m\u001b[0;34m(\u001b[0m\u001b[0;34m)\u001b[0m\u001b[0;34m\u001b[0m\u001b[0m\n\u001b[0m\u001b[1;32m   1911\u001b[0m         \u001b[0mretcode\u001b[0m \u001b[0;34m=\u001b[0m \u001b[0mprocess\u001b[0m\u001b[0;34m.\u001b[0m\u001b[0mpoll\u001b[0m\u001b[0;34m(\u001b[0m\u001b[0;34m)\u001b[0m\u001b[0;34m\u001b[0m\u001b[0m\n\u001b[1;32m   1912\u001b[0m         \u001b[0;32mif\u001b[0m \u001b[0mretcode\u001b[0m\u001b[0;34m:\u001b[0m\u001b[0;34m\u001b[0m\u001b[0m\n",
      "\u001b[0;32m/usr/lib/python3.5/subprocess.py\u001b[0m in \u001b[0;36mcommunicate\u001b[0;34m(self, input, timeout)\u001b[0m\n\u001b[1;32m   1057\u001b[0m                 \u001b[0mself\u001b[0m\u001b[0;34m.\u001b[0m\u001b[0m_stdin_write\u001b[0m\u001b[0;34m(\u001b[0m\u001b[0minput\u001b[0m\u001b[0;34m)\u001b[0m\u001b[0;34m\u001b[0m\u001b[0m\n\u001b[1;32m   1058\u001b[0m             \u001b[0;32melif\u001b[0m \u001b[0mself\u001b[0m\u001b[0;34m.\u001b[0m\u001b[0mstdout\u001b[0m\u001b[0;34m:\u001b[0m\u001b[0;34m\u001b[0m\u001b[0m\n\u001b[0;32m-> 1059\u001b[0;31m                 \u001b[0mstdout\u001b[0m \u001b[0;34m=\u001b[0m \u001b[0mself\u001b[0m\u001b[0;34m.\u001b[0m\u001b[0mstdout\u001b[0m\u001b[0;34m.\u001b[0m\u001b[0mread\u001b[0m\u001b[0;34m(\u001b[0m\u001b[0;34m)\u001b[0m\u001b[0;34m\u001b[0m\u001b[0m\n\u001b[0m\u001b[1;32m   1060\u001b[0m                 \u001b[0mself\u001b[0m\u001b[0;34m.\u001b[0m\u001b[0mstdout\u001b[0m\u001b[0;34m.\u001b[0m\u001b[0mclose\u001b[0m\u001b[0;34m(\u001b[0m\u001b[0;34m)\u001b[0m\u001b[0;34m\u001b[0m\u001b[0m\n\u001b[1;32m   1061\u001b[0m             \u001b[0;32melif\u001b[0m \u001b[0mself\u001b[0m\u001b[0;34m.\u001b[0m\u001b[0mstderr\u001b[0m\u001b[0;34m:\u001b[0m\u001b[0;34m\u001b[0m\u001b[0m\n",
      "\u001b[0;31mKeyboardInterrupt\u001b[0m: "
     ]
    }
   ],
   "source": [
    "SUM_THRESH = .15\n",
    "doc_matches_matrix = []\n",
    "num = 0\n",
    "for doc in sampled_untrusted_tops_lines:\n",
    "    print(doc)\n",
    "    tops = all_untrusted_tops[sampled_doc_nums[num]]\n",
    "    tops = sorted(tops, key=lambda a:a[1], reverse=True)\n",
    "    print(tops)\n",
    "    matched_documents = [train_docs_unshuffled[sampled_doc_nums[num]]]\n",
    "    print(sampled_doc_nums[num])\n",
    "    for i in range(len(doc)):\n",
    "        top = doc[i]\n",
    "        if(top < SUM_THRESH):\n",
    "            continue\n",
    "        #print(top)\n",
    "        #print(ldamodel_10k.show_topic(i))\n",
    "        topic_docs, scores = get_docs(i, matches)\n",
    "        matched_documents.append({'documents': topic_docs, 'scores': scores})\n",
    "    with open('matches2/' + str(sampled_doc_nums[num]) +'.json', 'w') as fout:\n",
    "        json.dump(matched_documents, fout)\n",
    "    num += 1"
   ]
  },
  {
   "cell_type": "code",
   "execution_count": null,
   "metadata": {
    "scrolled": true
   },
   "outputs": [],
   "source": [
    "sampled_untrusted_tops[2] == all_untrusted_tops[sampled_doc_nums[2]]"
   ]
  },
  {
   "cell_type": "code",
   "execution_count": null,
   "metadata": {
    "scrolled": true
   },
   "outputs": [],
   "source": [
    "a = all_untrusted_tops[sampled_doc_nums[20]]\n",
    "sorted(a, key=lambda a:a[1], reverse=True)"
   ]
  },
  {
   "cell_type": "code",
   "execution_count": 84,
   "metadata": {
    "scrolled": true
   },
   "outputs": [
    {
     "data": {
      "text/plain": [
       "[(58, 0.27226377441171057),\n",
       " (13, 0.1291358416616669),\n",
       " (67, 0.11849222180165092),\n",
       " (56, 0.09572316367970782),\n",
       " (96, 0.08738602712607557),\n",
       " (90, 0.0655666609253252),\n",
       " (54, 0.06119664963357997),\n",
       " (47, 0.023675741245974703),\n",
       " (12, 0.022400562309704074),\n",
       " (4, 0.02119155034074737),\n",
       " (70, 0.019834566103028153),\n",
       " (37, 0.01647892069672425),\n",
       " (78, 0.009630584509046133),\n",
       " (79, 0.009319631792036672),\n",
       " (11, 0.008100775076142746),\n",
       " (6, 0.008061178651553843),\n",
       " (22, 0.005411768809463271),\n",
       " (98, 0.0037599948141963345),\n",
       " (28, 0.003539571530994863),\n",
       " (17, 0.0030078789750283908),\n",
       " (89, 0.00292365492035145),\n",
       " (60, 0.001266551451308764),\n",
       " (94, 0.0011375544943288693),\n",
       " (15, 0.0010618960591803226),\n",
       " (51, 0.000983240117767941),\n",
       " (43, 0.0009809240087466618),\n",
       " (14, 0.0006162475750438423),\n",
       " (26, 0.0006049871328341087),\n",
       " (31, 0.0005586720309658429),\n",
       " (97, 0.0004497725779135512),\n",
       " (46, 0.0004035062455721024),\n",
       " (39, 0.0003961990756308122),\n",
       " (55, 0.0003833100169889714),\n",
       " (16, 0.00036752434872546657),\n",
       " (36, 0.0002314321177804527),\n",
       " (68, 0.00022208693864053398),\n",
       " (77, 0.00021685848022559397),\n",
       " (61, 0.0002122506378649765),\n",
       " (65, 0.00021035831086310778),\n",
       " (52, 0.00020567430370783333),\n",
       " (76, 0.0002050902487449695),\n",
       " (59, 0.00020244852492879085),\n",
       " (19, 0.00020096818985822912),\n",
       " (7, 0.000186544622455645),\n",
       " (62, 0.00018493167821322532),\n",
       " (18, 9.387339479115968e-05),\n",
       " (40, 7.020824782407539e-05),\n",
       " (38, 6.514625225154335e-05),\n",
       " (45, 6.190081968846551e-05),\n",
       " (1, 5.886157762656923e-05),\n",
       " (21, 5.546653902021597e-05),\n",
       " (0, 5.525395898899715e-05),\n",
       " (66, 5.5033505492675766e-05),\n",
       " (24, 5.248534662317365e-05),\n",
       " (50, 5.186701152949895e-05),\n",
       " (29, 5.0609894718930654e-05),\n",
       " (30, 4.951180208757585e-05),\n",
       " (9, 4.5839882224376716e-05),\n",
       " (64, 4.321563273186836e-05),\n",
       " (63, 4.031612380944801e-05),\n",
       " (49, 3.4050733820125176e-05),\n",
       " (91, 3.2401119910098564e-05),\n",
       " (95, 3.0691526273204386e-05),\n",
       " (86, 2.8928932148737103e-05),\n",
       " (88, 2.8188158205767814e-05),\n",
       " (5, 2.586362750117206e-05),\n",
       " (81, 2.5607923597110274e-05),\n",
       " (75, 2.5397854044654934e-05),\n",
       " (10, 2.4633136883528254e-05),\n",
       " (83, 2.4242102782985057e-05),\n",
       " (74, 2.3644467601634014e-05),\n",
       " (44, 2.1893978998429218e-05),\n",
       " (92, 2.1876324935850466e-05),\n",
       " (69, 2.082894613955318e-05),\n",
       " (42, 1.9292283121207872e-05),\n",
       " (8, 1.765613501267622e-05),\n",
       " (41, 1.624846149209814e-05),\n",
       " (33, 1.5827843021910393e-05),\n",
       " (87, 1.3597103505857218e-05),\n",
       " (93, 1.1518340059684896e-05),\n",
       " (84, 1.020048920490738e-05),\n",
       " (23, 1.0103263600091964e-05),\n",
       " (2, 9.106886240658856e-06),\n",
       " (35, 8.906541410938667e-06),\n",
       " (71, 8.696640816121786e-06),\n",
       " (57, 6.688108506140299e-06),\n",
       " (73, 6.458146413588973e-06),\n",
       " (48, 5.474852020686918e-06),\n",
       " (82, 4.499041681492438e-06),\n",
       " (32, 3.610253476520762e-06),\n",
       " (20, 3.6009859179078753e-06),\n",
       " (25, 3.5792499178756653e-06),\n",
       " (99, 3.3036256952661832e-06),\n",
       " (3, 2.9784295993640853e-06),\n",
       " (34, 2.7886351993887354e-06),\n",
       " (85, 2.273859078014901e-06),\n",
       " (27, 2.025815856694209e-06),\n",
       " (72, 1.3542296585654533e-06),\n",
       " (80, 1.3511628301947747e-06),\n",
       " (53, 1.2725914111152136e-06)]"
      ]
     },
     "execution_count": 84,
     "metadata": {},
     "output_type": "execute_result"
    }
   ],
   "source": [
    "b = ldamodel_10k[doc_term_matrix_unshuffled[1481]]\n",
    "sorted(b, key=lambda a:a[1], reverse=True)"
   ]
  },
  {
   "cell_type": "markdown",
   "metadata": {},
   "source": [
    "## all_untrusted_tops[sampled_doc_nums[num]]"
   ]
  },
  {
   "cell_type": "code",
   "execution_count": null,
   "metadata": {},
   "outputs": [],
   "source": [
    "###Summarizing done in a separate script"
   ]
  }
 ],
 "metadata": {
  "kernelspec": {
   "display_name": "Python 3",
   "language": "python",
   "name": "python3"
  },
  "language_info": {
   "codemirror_mode": {
    "name": "ipython",
    "version": 3
   },
   "file_extension": ".py",
   "mimetype": "text/x-python",
   "name": "python",
   "nbconvert_exporter": "python",
   "pygments_lexer": "ipython3",
   "version": "3.5.2"
  }
 },
 "nbformat": 4,
 "nbformat_minor": 2
}
