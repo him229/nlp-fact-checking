{
 "cells": [
  {
   "cell_type": "code",
   "execution_count": null,
   "metadata": {},
   "outputs": [],
   "source": [
    "import gensim\n",
    "from gensim.summarization import summarize\n",
    "import numpy as np\n",
    "import pandas as pd\n",
    "import os\n",
    "import json"
   ]
  },
  {
   "cell_type": "code",
   "execution_count": null,
   "metadata": {},
   "outputs": [],
   "source": [
    "for file in os.listdir('matches/'):\n",
    "    with open('docs/' + file, 'r') as f:\n",
    "        topic_matches = json.load(f)\n",
    "    \n",
    "    summarizing_text = ''\n",
    "    original_doc = topic_matches[0]\n",
    "    topic_matches = topic_matches[1:]\n",
    "    for topic in topic_matches:\n",
    "        matches = topic['documents']\n",
    "        scores = topic['scores']\n",
    "        for i in range(len(matches)):\n",
    "            summarizing_text += matches[i]\n",
    "    summary = summarize(summarizing_text, ratio=.1)    \n",
    "    with open('summaries/' + file[:-5] + '_summary.txt', 'w') as f:\n",
    "        f.write(summary)\n",
    "    with open('summaries/' + file[:-5] + '_original_doc.txt', 'w') as f:\n",
    "        f.write(original_doc)"
   ]
  },
  {
   "cell_type": "code",
   "execution_count": null,
   "metadata": {},
   "outputs": [],
   "source": []
  },
  {
   "cell_type": "code",
   "execution_count": null,
   "metadata": {},
   "outputs": [],
   "source": []
  }
 ],
 "metadata": {
  "kernelspec": {
   "display_name": "Python 3",
   "language": "python",
   "name": "python3"
  },
  "language_info": {
   "codemirror_mode": {
    "name": "ipython",
    "version": 3
   },
   "file_extension": ".py",
   "mimetype": "text/x-python",
   "name": "python",
   "nbconvert_exporter": "python",
   "pygments_lexer": "ipython3",
   "version": "3.5.2"
  }
 },
 "nbformat": 4,
 "nbformat_minor": 2
}
