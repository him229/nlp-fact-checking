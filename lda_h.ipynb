{
 "cells": [
  {
   "cell_type": "code",
   "execution_count": 0,
   "metadata": {
    "colab": {
     "base_uri": "https://localhost:8080/",
     "height": 85
    },
    "colab_type": "code",
    "id": "VSSFQJqULR99",
    "outputId": "7a384cdb-afaf-497b-a3d3-d584a1920eac"
   },
   "outputs": [
    {
     "name": "stdout",
     "output_type": "stream",
     "text": [
      "[nltk_data] Downloading package stopwords to /root/nltk_data...\n",
      "[nltk_data]   Package stopwords is already up-to-date!\n",
      "[nltk_data] Downloading package wordnet to /root/nltk_data...\n",
      "[nltk_data]   Package wordnet is already up-to-date!\n"
     ]
    }
   ],
   "source": [
    "import nltk\n",
    "nltk.download('stopwords')\n",
    "nltk.download('wordnet')\n",
    "import re\n",
    "import numpy as np\n",
    "import pandas as pd\n",
    "from pprint import pprint\n",
    "import os\n",
    "from pathlib import Path\n",
    "import json\n",
    "from nltk.stem.wordnet import WordNetLemmatizer\n",
    "from nltk.corpus import wordnet as wn\n",
    "import csv\n",
    "import random\n",
    "import gensim\n",
    "import gensim.corpora as corpora\n",
    "from gensim.utils import simple_preprocess\n",
    "from gensim.models import CoherenceModel\n",
    "from gensim.test.utils import datapath\n",
    "import spacy\n",
    "from nltk.corpus import stopwords\n",
    "stop_words = stopwords.words('english')\n",
    "import json"
   ]
  },
  {
   "cell_type": "code",
   "execution_count": 0,
   "metadata": {
    "colab": {},
    "colab_type": "code",
    "id": "R4PhuNWYLR-A"
   },
   "outputs": [],
   "source": [
    "# filename = 'news_cleaned_2018_02_13.csv'\n",
    "# train_docs = []\n",
    "# test_docs = []\n",
    "# i=0\n",
    "# with open(filename) as f:\n",
    "#     reader = csv.reader(f)\n",
    "#     for row in reader:\n",
    "#         #ignore if not political and short text\n",
    "#         if(not row[3] == 'political' or len(row[5]) < 1000):\n",
    "#             continue\n",
    "#         if(i >= 5100):\n",
    "#             break\n",
    "#         train_docs.append(row[5])\n",
    "#         i+=1\n",
    "# train_docs = train_docs[:5000]\n",
    "# test_docs = test_docs[5000:]"
   ]
  },
  {
   "cell_type": "code",
   "execution_count": 0,
   "metadata": {
    "colab": {},
    "colab_type": "code",
    "id": "RvmV-JcdNFHA"
   },
   "outputs": [],
   "source": [
    "with open('/content/test_lda.json', 'r') as outfile:  \n",
    "    test_docs = json.load(outfile)\n",
    "with open('/content/train_lda.json', 'r') as outfile:  \n",
    "    train_docs = json.load(outfile)"
   ]
  },
  {
   "cell_type": "code",
   "execution_count": 0,
   "metadata": {
    "colab": {},
    "colab_type": "code",
    "id": "jN0AC6nfO27f"
   },
   "outputs": [],
   "source": []
  },
  {
   "cell_type": "code",
   "execution_count": 0,
   "metadata": {
    "colab": {},
    "colab_type": "code",
    "id": "kJs1fsF-LR-C"
   },
   "outputs": [],
   "source": [
    "stop = set(stopwords.words('english'))\n",
    "lemma = WordNetLemmatizer()\n",
    "def clean(doc):\n",
    "    deacc = gensim.utils.simple_preprocess(doc, deacc=True, min_len=4)\n",
    "    stop_free = [i for i in deacc if i not in stop]\n",
    "    normalized = [lemma.lemmatize(word) for word in stop_free]\n",
    "    return normalized\n",
    "train_docs_clean = [clean(doc) for doc in train_docs]\n",
    "test_docs_clean = [clean(doc) for doc in test_docs]"
   ]
  },
  {
   "cell_type": "code",
   "execution_count": 0,
   "metadata": {
    "colab": {},
    "colab_type": "code",
    "id": "MySFPVi1LR-E"
   },
   "outputs": [],
   "source": [
    "dictionary = corpora.Dictionary(train_docs_clean)\n",
    "doc_term_matrix = [dictionary.doc2bow(doc) for doc in train_docs_clean]\n",
    "\n",
    "test_dictionary = corpora.Dictionary(test_docs_clean) \n",
    "test_doc_term_matrix = [dictionary.doc2bow(text) for text in test_docs_clean]"
   ]
  },
  {
   "cell_type": "code",
   "execution_count": 0,
   "metadata": {
    "colab": {
     "base_uri": "https://localhost:8080/",
     "height": 51
    },
    "colab_type": "code",
    "id": "ZuE5xR3EBEpu",
    "outputId": "3607c510-4c97-40ff-9d9f-90d1be083ff0"
   },
   "outputs": [
    {
     "name": "stderr",
     "output_type": "stream",
     "text": [
      "/usr/local/lib/python3.6/dist-packages/gensim/models/ldamodel.py:1023: RuntimeWarning: divide by zero encountered in log\n",
      "  diff = np.log(self.expElogbeta)\n"
     ]
    }
   ],
   "source": [
    "Lda = gensim.models.ldamodel.LdaModel\n",
    "ldamodel = Lda(doc_term_matrix, num_topics=100, id2word = dictionary, passes=50)\n",
    "temp_file = datapath(\"model\")\n",
    "ldamodel.save(temp_file)"
   ]
  },
  {
   "cell_type": "code",
   "execution_count": 0,
   "metadata": {
    "colab": {
     "base_uri": "https://localhost:8080/",
     "height": 34
    },
    "colab_type": "code",
    "id": "4NdN6nZhLR-G",
    "outputId": "a1f1de70-9618-4617-bc4b-6d0ae2b48c52",
    "scrolled": true
   },
   "outputs": [
    {
     "data": {
      "text/plain": [
       "5000"
      ]
     },
     "execution_count": 78,
     "metadata": {
      "tags": []
     },
     "output_type": "execute_result"
    }
   ],
   "source": [
    "# print(ldamodel.print_topics(num_words=3))\n",
    "len(train_docs)"
   ]
  },
  {
   "cell_type": "code",
   "execution_count": 0,
   "metadata": {
    "colab": {
     "base_uri": "https://localhost:8080/",
     "height": 1142
    },
    "colab_type": "code",
    "id": "5HQj1XCZLR-J",
    "outputId": "d5d95285-ed85-4204-ce58-79bcaf1decb6"
   },
   "outputs": [
    {
     "name": "stdout",
     "output_type": "stream",
     "text": [
      "Controversial rapper Azealia Banks was arrested outside of a New York City nightclub early Wednesday morning, after she allegedly bit a female security guard on the breast during an assault.\n",
      "\n",
      "Page Six reports Banks, 24, was outside of the Manhattan club Up&Down attempting to gain entry to an invite-only event. After the “Chasing Time” rapper was stopped at the door, a fight broke out.\n",
      "\n",
      "A source told the site Banks had spit in the bouncer’s face and also punched her. The source also observed Banks “biting her in the boob.”\n",
      "\n",
      "Another person outside of the club said, “She bites the [bouncer] in the breast, almost breaking her shirt… as they took her out.”\n",
      "\n",
      "She is also accused of “screaming at the top of her lungs, cursing” and using racial slurs. After she was detained, she reportedly asked, “Why are you arresting me?”\n",
      "\n",
      "She was charged Wednesday with second-degree harassment for physical contact, disorderly conduct for a fight and violent behavior, and assault with the intent to cause physical injury.\n",
      "\n",
      "This is not the first time Banks has been accused of losing her cool in public or the first time she has been accused of spitting.\n",
      "\n",
      "In September, Banks was involved in an altercation on a Delta flight, wherein she was accused of spitting in the face of another passenger and directing a gay slur at a flight attendant.\n",
      "\n",
      "After Banks allegedly hit and spit on the passenger, a flight attendant grabbed her bag to intervene.\n",
      "\n",
      "She was recorded on video telling the airline employee, “Give me my bag, you f—king faggot.”\n",
      "\n",
      "Hours after the airplane incident, Banks dismissed critics of her use of the gay slur, writing on Twitter, “I am bisexual. my brother is trans. My employees are all gay men. . Nothing else to say.”\n",
      "\n",
      "Earlier this year, during an interview with Playboy magazine, she said she hated everything about the United States:\n",
      "\n",
      "Like, I hate fat white Americans. All the people who are crunched into the middle of America, the real fat and meat of America, are these racist conservative white people who live on their farms.\n",
      "\n",
      "Banks also said, “Seriously, once all YALL black people learn how to kill+sicken people without actually touching them the sooner we really get from under …whitey’s foot.”\n",
      "0.20511568 51\n",
      "0.032*\"police\" + 0.020*\"attack\" + 0.018*\"said\" + 0.013*\"year\" + 0.010*\"officer\" + 0.010*\"report\" + 0.009*\"security\" + 0.008*\"killed\" + 0.007*\"also\" + 0.007*\"arrested\"\n",
      "0.13974153 25\n",
      "0.019*\"people\" + 0.014*\"like\" + 0.012*\"know\" + 0.011*\"thing\" + 0.010*\"time\" + 0.010*\"think\" + 0.010*\"would\" + 0.009*\"going\" + 0.008*\"said\" + 0.008*\"want\"\n",
      "0.088573426 13\n",
      "0.019*\"said\" + 0.012*\"twitter\" + 0.010*\"facebook\" + 0.010*\"charge\" + 0.010*\"also\" + 0.009*\"prison\" + 0.007*\"year\" + 0.007*\"statement\" + 0.007*\"case\" + 0.007*\"reported\"\n",
      "0.08252541 47\n",
      "0.094*\"trump\" + 0.035*\"president\" + 0.035*\"clinton\" + 0.024*\"news\" + 0.021*\"hillary\" + 0.020*\"obama\" + 0.019*\"donald\" + 0.015*\"medium\" + 0.014*\"said\" + 0.011*\"campaign\"\n",
      "0.06877745 1\n",
      "0.054*\"plane\" + 0.039*\"pilot\" + 0.035*\"flight\" + 0.034*\"mateen\" + 0.027*\"crash\" + 0.021*\"flying\" + 0.017*\"omar\" + 0.017*\"club\" + 0.015*\"animal\" + 0.014*\"phone\"\n",
      "0.06665586 50\n",
      "0.044*\"employee\" + 0.036*\"company\" + 0.021*\"bonus\" + 0.019*\"bank\" + 0.012*\"business\" + 0.011*\"million\" + 0.010*\"reform\" + 0.010*\"time\" + 0.010*\"president\" + 0.009*\"benefit\"\n",
      "0.054052655 61\n",
      "0.067*\"recs\" + 0.016*\"cruz\" + 0.009*\"state\" + 0.009*\"post\" + 0.007*\"first\" + 0.007*\"today\" + 0.007*\"trump\" + 0.006*\"diary\" + 0.006*\"woman\" + 0.006*\"mcconnell\"\n",
      "0.04258374 8\n",
      "0.245*\"woman\" + 0.055*\"sexual\" + 0.029*\"female\" + 0.027*\"girl\" + 0.027*\"assault\" + 0.024*\"rape\" + 0.023*\"victim\" + 0.021*\"harassment\" + 0.019*\"child\" + 0.017*\"abuse\"\n",
      "0.031244613 83\n",
      "0.029*\"said\" + 0.029*\"texas\" + 0.018*\"county\" + 0.014*\"told\" + 0.012*\"breitbart\" + 0.010*\"grayson\" + 0.010*\"reported\" + 0.010*\"store\" + 0.010*\"follow\" + 0.009*\"twitter\"\n",
      "0.028548658 55\n",
      "0.062*\"october\" + 0.057*\"vega\" + 0.052*\"airport\" + 0.039*\"mass\" + 0.039*\"passenger\" + 0.038*\"shooting\" + 0.032*\"hotel\" + 0.032*\"update\" + 0.027*\"airline\" + 0.024*\"flight\"\n",
      "0.0279753 16\n",
      "0.086*\"black\" + 0.019*\"chapter\" + 0.012*\"book\" + 0.010*\"pentagon\" + 0.009*\"hole\" + 0.009*\"impact\" + 0.009*\"white\" + 0.008*\"death\" + 0.008*\"life\" + 0.007*\"author\"\n",
      "0.025098355 28\n",
      "0.015*\"american\" + 0.014*\"people\" + 0.010*\"group\" + 0.010*\"right\" + 0.009*\"religious\" + 0.008*\"social\" + 0.008*\"conservative\" + 0.008*\"christian\" + 0.007*\"culture\" + 0.007*\"life\"\n",
      "0.02371747 58\n",
      "0.012*\"trump\" + 0.010*\"twitter\" + 0.010*\"first\" + 0.009*\"star\" + 0.009*\"president\" + 0.009*\"year\" + 0.009*\"fight\" + 0.008*\"breitbart\" + 0.006*\"last\" + 0.006*\"back\"\n",
      "0.016855566 91\n",
      "0.013*\"would\" + 0.011*\"jackson\" + 0.008*\"time\" + 0.007*\"johnson\" + 0.006*\"john\" + 0.006*\"statue\" + 0.006*\"white\" + 0.006*\"first\" + 0.006*\"memorial\" + 0.005*\"acosta\"\n",
      "0.016087173 32\n",
      "0.031*\"health\" + 0.019*\"drug\" + 0.017*\"child\" + 0.015*\"medical\" + 0.014*\"year\" + 0.013*\"case\" + 0.012*\"report\" + 0.010*\"disease\" + 0.010*\"test\" + 0.010*\"mental\"\n",
      "0.015150332 95\n",
      "0.094*\"north\" + 0.065*\"korea\" + 0.044*\"china\" + 0.027*\"korean\" + 0.023*\"nuclear\" + 0.022*\"chinese\" + 0.021*\"south\" + 0.012*\"jong\" + 0.011*\"pyongyang\" + 0.011*\"missile\"\n",
      "0.0108595 92\n",
      "0.067*\"news\" + 0.065*\"overnight\" + 0.064*\"editor\" + 0.062*\"saturday\" + 0.057*\"digest\" + 0.055*\"crew\" + 0.048*\"science\" + 0.036*\"greece\" + 0.035*\"regular\" + 0.034*\"pocket\"\n",
      "0.010238172 42\n",
      "0.024*\"court\" + 0.014*\"legal\" + 0.012*\"right\" + 0.012*\"case\" + 0.010*\"government\" + 0.010*\"justice\" + 0.008*\"congress\" + 0.008*\"federal\" + 0.008*\"state\" + 0.008*\"supreme\"\n",
      "0.010176736 20\n",
      "0.106*\"food\" + 0.038*\"farm\" + 0.033*\"rural\" + 0.033*\"agricultural\" + 0.030*\"homicide\" + 0.030*\"sugar\" + 0.028*\"agriculture\" + 0.026*\"farmer\" + 0.023*\"crop\" + 0.016*\"biofuels\"\n"
     ]
    }
   ],
   "source": [
    "doc_num = 3090\n",
    "print(train_docs[doc_num])\n",
    "tops = ldamodel.get_document_topics(doc_term_matrix[doc_num])\n",
    "tops = sorted(tops, key=lambda a:a[1], reverse=True)\n",
    "for top in tops:\n",
    "    print(top[1], top[0])\n",
    "    print(ldamodel.print_topic(top[0]))"
   ]
  },
  {
   "cell_type": "code",
   "execution_count": 0,
   "metadata": {
    "colab": {
     "base_uri": "https://localhost:8080/",
     "height": 972
    },
    "colab_type": "code",
    "id": "9fCNFhTNLR-L",
    "outputId": "24e140f6-ff1b-4a00-ee4c-7eb9372147b8"
   },
   "outputs": [
    {
     "name": "stdout",
     "output_type": "stream",
     "text": [
      "The Obama Administration’s disastrous legacy in Syria is one of the most urgent issues confronting the Trump Administration. The former Administration’s complacent approach to the Syrian conflict—toothless diplomacy based on wishful thinking and mistaken acquiescence to Moscow’s diplomatic schemes—has yielded a humanitarian catastrophe: a strengthened Assad regime, an emboldened Russia that has enhanced its limited geostrategic foothold in the Middle East, an expanding Iranian military intervention, and a fertile environment for the growth of Islamist extremism.\n",
      "\n",
      "The Obama Administration left the Trump Administration with few good options to mitigate the increasingly dire situation in Syria, which has generated destabilizing spillover effects that threaten U.S. national security interests and many allies, particularly Israel, Jordan, and Turkey. President Donald Trump and his Administration should work with allies to defeat ISIS, contain the civil war within Syria’s borders to minimize spillover effects that could destabilize U.S. allies, help Syria’s neighbors to shelter refugees so that they can remain close to their homes and stop migrating to Europe, and encourage Arab allies to play a more responsible role in Syria on military, diplomatic, and humanitarian fronts.\n",
      "\n",
      "Obama’s Dismal Record in Syria\n",
      "\n",
      "The Obama Administration adopted a cautious stance in Syria that initially ruled out direct military action. It also initially balked at providing arms to Syrian rebel groups, arguing that such a policy would escalate the fighting and lead to higher civilian casualties. Other countries stepped in to fill the vacuum and the fighting worsened anyway, escalating the Syrian crisis into a deepening regional crisis. Qatar, Saudi Arabia, Turkey, and other Gulf states threw their support behind various Islamist groups that soon overshadowed nationalist groups and Syrian army defectors within the fragmented opposition camp. U.S. passivity contributed to the meteoric rise of the Islamic State (then known as ISIS), which was much better armed and financed than rival rebel groups and paid its fighters higher salaries.\n",
      "\n",
      "In August 2012, President Obama warned the Assad regime not to use illegal chemical weapons. Assad ignored Obama and used chemical weapons repeatedly. In response, Obama reluctantly approved the provision of arms to certain Syrian rebel groups and threatened to bomb Assad’s military forces. The President stepped back from the brink in September 2013 when Moscow seized the initiative by offering to broker a deal that would remove chemical weapons from Syria. The Assad regime paid lip service to the agreement and shipped most of its chemical weapons out of the country, but it continues to use chlorine gas against its own people in violation of the Chemical Weapons Convention.\n",
      "\n",
      "President Obama’s vacillation on the use of force and failure to enforce his own red line against the use of chemical weapons exposed his Administration as a feckless adversary and unreliable ally. Meanwhile, Russian President Vladimir Putin has applied military force aggressively to prop up the Assad regime and bolster Russia’s regional influence. Putin, correctly anticipating little push back from Obama, sought to present the Trump Administration with a fait accompli that would limit its options.\n",
      "\n",
      "Moscow’s deployment of missile air defense systems, air power, and limited ground forces already has significantly constrained U.S. military options. Moscow has also sought to undermine U.S. diplomatic options by excluding Washington from the negotiations that produced the December 30 cease-fire and from a formal role in peace talks in Kazakhstan—talks that are aimed at consolidating Assad’s military gains rather than reaching genuine compromises to defuse the war.\n",
      "\n",
      "Time to Reset U.S. Syria Policy\n",
      "\n",
      "The Obama Administration’s half-hearted Syria policy failed disastrously at great cost to U.S. national interests and credibility. The Administration failed to halt the carnage or block Russian, Syrian, and Iranian efforts to impose a military solution. Washington’s alliance network in the Middle East has been weakened and strained, and the emerging Russia–Syria–Iran axis has been strengthened. The biggest losers have been the Syrian people—more than 400,000 of whom have died in the fighting since 2011.\n",
      "\n",
      "The Trump Administration should therefore:\n",
      "\n",
      "Work with allies to defeat ISIS. President Trump has correctly identified the defeat of ISIS as a U.S. priority in Syria. But ISIS is by no means the only Islamist extremist threat there. Al-Qaeda’s Syrian affiliate, Jabhat Fateh al-Sham (Front for the Conquest of the Levant, or JFS), also poses a threat to the U.S. and has quietly put down deeper roots than ISIS. JFS recently merged with several smaller extremist groups and rebranded itself as Hayat Tahrir al-Sham (Organization for the Liberation of the Levant). Moreover, the war in Syria has become a proxy war between Sunni and Shiite extremists, including Hezbollah and other pro-Iranian forces that also pose threats to U.S. interests. Washington has few reliable allies inside Syria. Syrian Kurdish militias tied to the Kurdistan Workers’ Party (PKK) are an effective military force, but close cooperation with them complicates relations with Turkey. Ankara has been fighting the PKK, which has been designated as a terrorist group by both the U.S. and the European Union, off and on since 1984. The Trump Administration should end U.S. support for Syrian Kurdish militias linked to the PKK. To stabilize Syria in the long run, Washington and Ankara must agree on which groups to support and cooperate closely in providing that support. Non-Islamist rebel groups in northern Syria have been weakened by defections, in part due to a lack of external support, as Turkey threw its support behind the Muslim Brotherhood and Saudi Arabia and Qatar favored even more radical Salafist groups. But in southern Syria, the Southern Front, a coalition of secular, moderate, and tribal militias supported by Jordan, France, and the U.S., may be more reliable allies, particularly in securing the Jordanian border and preventing ISIS infiltration. Washington should press Turkey, other NATO allies, Saudi Arabia, and other Gulf allies to contribute significant ground troops and special operations forces to defeat ISIS on the ground inside Syria. The U.S. could provide advisers, air support, logistical support, airlift, intelligence, surveillance, search and rescue support, and other enablers. Meanwhile, the U.S. should reassess its aid program for Syrian rebels and continue aid only to non-Islamist groups willing and able to fight ISIS effectively. It must also do a better job of vetting them to prevent arms from falling into the wrong hands.\n",
      "\n",
      "Contain and mitigate the destabilizing spillover effects of Syria's civil war. Washington must focus on preventing the fighting from spilling over Syria’s borders to threaten U.S. allies, limiting the flow of refugees to Europe and helping to take care of them closer to their homes, and preventing Syria from becoming a sanctuary for Islamist terrorists. The U.S. should work closely with allies to staunch the flow of foreign fighters into Syria and to monitor and disrupt the flow of Islamist extremists out of Syria. This requires a robust, multi-pronged, global effort to dismantle the foreign-fighter pipeline and counter the radical Islamist ideology that motivates new recruits.[REF] Roughly half of Syria’s 20 million people have been displaced by the fighting, with more than 5 million refugees fleeing the country. Most of the refugees were fleeing from attacks by the Russia–Syria–Iran axis, not from ISIS, which blocked the exit of Syrians from its “caliphate.” Moscow has “weaponized” the refugees by stampeding them out of Syria, making them an increasing burden on Jordan, Lebanon, Turkey, and the European Union. President Trump has proposed the establishment of vaguely defined “safe zones” to protect refugees in Syria and the surrounding region. Refugee sanctuaries already exist in Jordan, Iraqi Kurdistan, Lebanon, and Turkey. Washington should offer more humanitarian aid to support refugees there and lighten the burden on the host countries, but it should rule out the deployment of U.S. forces inside Syria to maintain safe zones. This would be a costly, risky, open-ended military mission that would make the U.S. a party to the conflict. The best contribution that Washington can make to protecting Syrian refugees is to focus on defeating ISIS and support a political settlement that ends the fighting and allows the refugees to return home.\n",
      "\n",
      "Avoid legitimizing the roles of Russia or Iran in Syria. Neither Russia nor Iran is a useful ally against ISIS and both actively undermine U.S. national interests and allies. Russia has paid lip service to the fight against ISIS, but has launched most of its air strikes against other rebel groups, including some supported by the U.S. Siding with Russia, which has been accused of committing war crimes in Syria, would discredit the U.S. in the eyes of most Syrians and many Sunni Arabs outside of Syria. The Trump Administration should not repeat either its predecessor’s overestimation of Moscow’s willingness to cooperate in Syria or its underestimation of Moscow’s interest in undermining U.S. influence in the Middle East. Although most attention has been focused on Russia’s air campaign, Iran and its surrogates have spearheaded most of the Assad regime’s ground offensives. Tehran’s sectarian policies have made a bad situation worse by fueling Sunni Arab support for ISIS in Syria as well as in Iraq. In the long run, Iran poses a much greater threat than ISIS or al-Qaeda.\n",
      "\n",
      "Encourage Arab allies to play a more responsible military, diplomatic, and humanitarian role in Syria. Some of America’s Arab allies have supported Sunni extremist groups against the Assad regime and Iran, which they view as their greatest enemy. Kuwait, Qatar, and Saudi Arabia continue to turn a blind eye to the activities of fundraisers for Islamist extremist groups seeking donations from private individuals in their kingdoms. The U.S. should press all of its allies to crack down on the flow of such funds and insist that rebel groups they support break all ties with JFS. Washington also should ask its allies to deploy more military forces to attack ISIS and provide greater aid for Syrian refugees.\n",
      "\n",
      "An Important Test Case\n",
      "\n",
      "Hard power wielded by ruthless regimes triumphed over the Obama Administration’s self-proclaimed “smart power” approach to Syria. The Trump Administration has inherited a deteriorating situation in the heart of the Middle East that generates destabilizing spillover effects that threaten many U.S. allies. President Trump should not repeat Obama’s mistakes in trusting Putin’s cynical diplomacy and accommodating Iran. His Administration should concentrate on protecting U.S. national security interests and allies, rather than seeking illusory diplomatic agreements that are quickly violated by its adversaries.\n",
      "\n",
      "James Phillips is Senior Research Fellow for Middle Eastern Affairs in the Douglas and Sarah Allison Center for Foreign Policy, of the Kathryn and Shelby Cullom Davis Institute for National Security and Foreign Policy, at The Heritage Foundation.\n",
      "0.49741337\n",
      "0.022*\"iran\" + 0.021*\"state\" + 0.015*\"syria\" + 0.015*\"isi\" + 0.012*\"united\" + 0.010*\"regime\" + 0.009*\"iranian\" + 0.008*\"security\" + 0.007*\"international\" + 0.007*\"force\"\n",
      "0.1237489\n",
      "0.009*\"even\" + 0.008*\"would\" + 0.006*\"political\" + 0.005*\"fact\" + 0.004*\"like\" + 0.004*\"claim\" + 0.004*\"world\" + 0.004*\"point\" + 0.004*\"much\" + 0.003*\"many\"\n",
      "0.057415817\n",
      "0.051*\"said\" + 0.042*\"trump\" + 0.029*\"president\" + 0.013*\"house\" + 0.012*\"would\" + 0.012*\"deal\" + 0.011*\"senate\" + 0.010*\"leader\" + 0.008*\"white\" + 0.008*\"administration\"\n",
      "0.05535096\n",
      "0.056*\"military\" + 0.029*\"force\" + 0.029*\"russia\" + 0.024*\"russian\" + 0.024*\"army\" + 0.021*\"american\" + 0.016*\"putin\" + 0.016*\"troop\" + 0.015*\"defense\" + 0.015*\"soldier\"\n",
      "0.036033276\n",
      "0.017*\"defense\" + 0.015*\"system\" + 0.012*\"military\" + 0.012*\"cost\" + 0.011*\"would\" + 0.010*\"transit\" + 0.009*\"could\" + 0.008*\"year\" + 0.008*\"area\" + 0.007*\"service\"\n",
      "0.026588555\n",
      "0.093*\"refugee\" + 0.035*\"country\" + 0.034*\"state\" + 0.024*\"united\" + 0.020*\"percent\" + 0.018*\"foreign\" + 0.018*\"year\" + 0.017*\"active\" + 0.017*\"born\" + 0.017*\"number\"\n",
      "0.026286237\n",
      "0.094*\"muslim\" + 0.063*\"islamic\" + 0.045*\"terrorist\" + 0.043*\"terrorism\" + 0.030*\"attack\" + 0.028*\"group\" + 0.026*\"islam\" + 0.023*\"violence\" + 0.021*\"radical\" + 0.019*\"terror\"\n",
      "0.025382275\n",
      "0.031*\"migrant\" + 0.019*\"french\" + 0.017*\"france\" + 0.016*\"said\" + 0.014*\"year\" + 0.013*\"country\" + 0.012*\"europe\" + 0.011*\"asylum\" + 0.011*\"paris\" + 0.011*\"border\"\n",
      "0.02287726\n",
      "0.040*\"program\" + 0.031*\"federal\" + 0.020*\"government\" + 0.012*\"private\" + 0.012*\"funding\" + 0.012*\"million\" + 0.012*\"fund\" + 0.010*\"service\" + 0.009*\"grant\" + 0.009*\"department\"\n",
      "0.022555502\n",
      "0.024*\"court\" + 0.014*\"legal\" + 0.012*\"right\" + 0.012*\"case\" + 0.010*\"government\" + 0.010*\"justice\" + 0.008*\"congress\" + 0.008*\"federal\" + 0.008*\"state\" + 0.008*\"supreme\"\n",
      "0.015906496\n",
      "0.119*\"weapon\" + 0.074*\"chemical\" + 0.045*\"attack\" + 0.020*\"used\" + 0.019*\"lopez\" + 0.016*\"syrian\" + 0.014*\"mass\" + 0.012*\"mustard\" + 0.012*\"report\" + 0.011*\"haram\"\n"
     ]
    }
   ],
   "source": [
    "test_doc_num = 70\n",
    "\n",
    "print(test_docs[test_doc_num])\n",
    "tops = ldamodel.get_document_topics(test_doc_term_matrix[test_doc_num])\n",
    "tops = sorted(tops, key=lambda a:a[1], reverse=True)\n",
    "for top in tops:\n",
    "    print(top[1])\n",
    "    print(ldamodel.print_topic(top[0]))"
   ]
  },
  {
   "cell_type": "code",
   "execution_count": 0,
   "metadata": {
    "colab": {
     "base_uri": "https://localhost:8080/",
     "height": 34
    },
    "colab_type": "code",
    "id": "8sg0DDmELR-N",
    "outputId": "fd72c0c1-35d4-44ed-8728-05b3392d44a7"
   },
   "outputs": [
    {
     "data": {
      "text/plain": [
       "'/usr/local/lib/python3.6/dist-packages/gensim/test/test_data/a'"
      ]
     },
     "execution_count": 79,
     "metadata": {
      "tags": []
     },
     "output_type": "execute_result"
    }
   ],
   "source": [
    "datapath('a')"
   ]
  },
  {
   "cell_type": "code",
   "execution_count": 0,
   "metadata": {
    "colab": {},
    "colab_type": "code",
    "id": "mES2hl1GLR-P"
   },
   "outputs": [],
   "source": []
  }
 ],
 "metadata": {
  "colab": {
   "name": "lda-himank.ipynb",
   "provenance": [],
   "version": "0.3.2"
  },
  "kernelspec": {
   "display_name": "Python 3",
   "language": "python",
   "name": "python3"
  },
  "language_info": {
   "codemirror_mode": {
    "name": "ipython",
    "version": 3
   },
   "file_extension": ".py",
   "mimetype": "text/x-python",
   "name": "python",
   "nbconvert_exporter": "python",
   "pygments_lexer": "ipython3",
   "version": "3.7.0"
  }
 },
 "nbformat": 4,
 "nbformat_minor": 1
}
