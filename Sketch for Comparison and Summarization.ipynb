{
 "cells": [
  {
   "cell_type": "markdown",
   "metadata": {},
   "source": [
    "metric_1: find a document w/same topic and value of > .3??\n",
    "metric_2: find a documetn w/cosine similiarty with a topic is > .8 and value > .3\n",
    "metric_3: find a document w/sum(cosine sime( > .8) and sum(val) > .3 and len(tops) <= 3"
   ]
  },
  {
   "cell_type": "markdown",
   "metadata": {},
   "source": [
    "## Build up a matrix of topicsxdocuments w/value is value"
   ]
  },
  {
   "cell_type": "code",
   "execution_count": null,
   "metadata": {},
   "outputs": [],
   "source": [
    "import pandas as pd\n",
    "import gensim\n",
    "import numpy\n",
    "import pandas\n",
    "import gensim.matutils as mt"
   ]
  },
  {
   "cell_type": "code",
   "execution_count": null,
   "metadata": {},
   "outputs": [],
   "source": [
    "#load model\n",
    "temp_file = datapath(\"model_LDA_mallet\")\n",
    "lda = Lda.load('model_LDA_mallet')\n",
    "K = lda.num_topics"
   ]
  },
  {
   "cell_type": "code",
   "execution_count": null,
   "metadata": {},
   "outputs": [],
   "source": [
    "#load training docs\n",
    "cols = ['top_' + str(i) for i in K]\n",
    "ind = []\n",
    "lol = []\n",
    "FNN = ''\n",
    "filename = \"corpus_bow.txt\"\n",
    "with open(FNN + filename, encoding='utf8') as f:\n",
    "    for line in f:\n",
    "        l = eval(line)\n",
    "        idno = l[0]\n",
    "        topics = get_document_topics(l[1])\n",
    "        row = [0]*K\n",
    "        for topic, value in topics:\n",
    "            row[topic] = value\n",
    "        ind.append(idno)\n",
    "        lol.append(row)\n",
    "df = pd.DataFrame(lol, columns=cols, index=ind)\n",
    "df.to_csv('doc_topic_matrix.csv')"
   ]
  },
  {
   "cell_type": "markdown",
   "metadata": {},
   "source": [
    "Save as CSC sparse matrix for easy access??"
   ]
  },
  {
   "cell_type": "markdown",
   "metadata": {},
   "source": [
    "## Topic similarity matrix"
   ]
  },
  {
   "cell_type": "code",
   "execution_count": null,
   "metadata": {},
   "outputs": [],
   "source": [
    "term_topic_matrix = lda.get_topics()\n",
    "topic_comps = pd.DataFrame(0, index=cols, columns=cols)\n",
    "indices = list(term_topic_matrix.index)\n",
    "for i in range(len(indices)-1):\n",
    "    for j in range(i + 1, len(indices)):\n",
    "        sim = mt.cossim(term_topic_matrix.iloc[i, :], term_topic_matrix.iloc[j, :])\n",
    "        topic_comps.loc[i, j] = sim\n",
    "        topic_comps.loc[j, i] = sim      "
   ]
  },
  {
   "cell_type": "markdown",
   "metadata": {},
   "source": [
    "## Compare topics"
   ]
  },
  {
   "cell_type": "code",
   "execution_count": null,
   "metadata": {},
   "outputs": [],
   "source": [
    "def get_diff_topic(top, num):\n",
    "    candidate_topics = list(topic_comps[topic_comps[top] > .8].sort_values(by=[top]).index)\n",
    "    docs = []\n",
    "    for topic in candidate_topics[:5]:\n",
    "        num, doc = get_same_topic(topic)\n",
    "        docs.append(doc)\n",
    "    docs = sorted(docs, key=lambda d: df.loc[d, top])\n",
    "    return min(num, len(docs)), docs[:num]"
   ]
  },
  {
   "cell_type": "code",
   "execution_count": null,
   "metadata": {},
   "outputs": [],
   "source": [
    "def get_same_topic(top):\n",
    "    candidate_docs = list(df[df[top] >= thresh].sort_values(by=[top]).index)\n",
    "    return len(candidate_docs), candidate_docs"
   ]
  },
  {
   "cell_type": "code",
   "execution_count": null,
   "metadata": {},
   "outputs": [],
   "source": [
    "def get_docs(top):\n",
    "    num, docs = get_same_topic(top)\n",
    "    num2, docs2 = get_diff_topic(top, total-num)\n",
    "    return num+num2, docs.append(docs2)"
   ]
  },
  {
   "cell_type": "markdown",
   "metadata": {},
   "source": [
    "## Get your top topics for document"
   ]
  },
  {
   "cell_type": "code",
   "execution_count": null,
   "metadata": {},
   "outputs": [],
   "source": [
    "document_id = 0\n",
    "topics = list(df.loc[document_id., :])\n",
    "tops = [i for i in range(0,K) if topics[i] > .1]\n",
    "thresh = .3\n",
    "for top in tops:\n",
    "    total, docs = get_docs(top, total)\n",
    "    ##Do Summary w/given docs"
   ]
  },
  {
   "cell_type": "code",
   "execution_count": null,
   "metadata": {},
   "outputs": [],
   "source": []
  },
  {
   "cell_type": "code",
   "execution_count": null,
   "metadata": {},
   "outputs": [],
   "source": []
  }
 ],
 "metadata": {
  "kernelspec": {
   "display_name": "Python 3",
   "language": "python",
   "name": "python3"
  },
  "language_info": {
   "codemirror_mode": {
    "name": "ipython",
    "version": 3
   },
   "file_extension": ".py",
   "mimetype": "text/x-python",
   "name": "python",
   "nbconvert_exporter": "python",
   "pygments_lexer": "ipython3",
   "version": "3.6.8"
  }
 },
 "nbformat": 4,
 "nbformat_minor": 2
}
